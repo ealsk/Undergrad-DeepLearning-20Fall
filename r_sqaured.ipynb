{
  "nbformat": 4,
  "nbformat_minor": 0,
  "metadata": {
    "colab": {
      "name": "r-sqaured.ipynb",
      "provenance": [],
      "collapsed_sections": [],
      "authorship_tag": "ABX9TyPPjd43M+6OQfTbBw/kn/0o",
      "include_colab_link": true
    },
    "kernelspec": {
      "name": "python3",
      "display_name": "Python 3"
    }
  },
  "cells": [
    {
      "cell_type": "markdown",
      "metadata": {
        "id": "view-in-github",
        "colab_type": "text"
      },
      "source": [
        "<a href=\"https://colab.research.google.com/github/ealsk/Undergrad-DeepLearning-20Fall/blob/master/r_sqaured.ipynb\" target=\"_parent\"><img src=\"https://colab.research.google.com/assets/colab-badge.svg\" alt=\"Open In Colab\"/></a>"
      ]
    },
    {
      "cell_type": "code",
      "metadata": {
        "id": "mwXxyv1y09lB"
      },
      "source": [
        "import matplotlib.pyplot as plt\n",
        "import numpy as np\n",
        "from sklearn.linear_model import LinearRegression\n",
        "from sklearn.metrics import mean_squared_error\n",
        "import random\n",
        "%matplotlib inline"
      ],
      "execution_count": 3,
      "outputs": []
    },
    {
      "cell_type": "markdown",
      "metadata": {
        "id": "5qEOijWc1-h4"
      },
      "source": [
        "**MSE (Mean Squared Error)**"
      ]
    },
    {
      "cell_type": "code",
      "metadata": {
        "id": "qrxfMZgg2BR1",
        "outputId": "70d8748f-4c03-427e-ad57-b1d1984f216a",
        "colab": {
          "base_uri": "https://localhost:8080/",
          "height": 107
        }
      },
      "source": [
        "x=[[1],[2],[3],[4],[5]]\n",
        "y=[[1],[5],[6],[7],[11]]\n",
        "y=np.array(y)\n",
        "x=np.array(x)\n",
        "mean=(1+5+6+7+11)/5\n",
        "print(y)"
      ],
      "execution_count": 5,
      "outputs": [
        {
          "output_type": "stream",
          "text": [
            "[[ 1]\n",
            " [ 5]\n",
            " [ 6]\n",
            " [ 7]\n",
            " [11]]\n"
          ],
          "name": "stdout"
        }
      ]
    },
    {
      "cell_type": "code",
      "metadata": {
        "id": "-j2rvbJS2URG",
        "outputId": "d60455be-582b-4833-fa16-2ef2cbb94daf",
        "colab": {
          "base_uri": "https://localhost:8080/",
          "height": 297
        }
      },
      "source": [
        "plt.plot(x,y,marker='o',linestyle='')\n",
        "plt.xlabel('X')\n",
        "plt.ylabel('Y')"
      ],
      "execution_count": 6,
      "outputs": [
        {
          "output_type": "execute_result",
          "data": {
            "text/plain": [
              "Text(0, 0.5, 'Y')"
            ]
          },
          "metadata": {
            "tags": []
          },
          "execution_count": 6
        },
        {
          "output_type": "display_data",
          "data": {
            "image/png": "[encoded data removed]",
            "text/plain": [
              "<Figure size 432x288 with 1 Axes>"
            ]
          },
          "metadata": {
            "tags": [],
            "needs_background": "light"
          }
        }
      ]
    },
    {
      "cell_type": "code",
      "metadata": {
        "id": "01gf58J92dt2",
        "outputId": "d929d89f-d8c3-4e6a-8072-c5038dc48ebb",
        "colab": {
          "base_uri": "https://localhost:8080/",
          "height": 35
        }
      },
      "source": [
        "lr = LinearRegression()\n",
        "lr.fit(x,y)"
      ],
      "execution_count": 7,
      "outputs": [
        {
          "output_type": "execute_result",
          "data": {
            "text/plain": [
              "LinearRegression(copy_X=True, fit_intercept=True, n_jobs=None, normalize=False)"
            ]
          },
          "metadata": {
            "tags": []
          },
          "execution_count": 7
        }
      ]
    },
    {
      "cell_type": "code",
      "metadata": {
        "id": "tJSkTW9B2jRD",
        "outputId": "def12a77-a39f-4896-977d-2dc4f8c85392",
        "colab": {
          "base_uri": "https://localhost:8080/",
          "height": 283
        }
      },
      "source": [
        "plt.plot(x,y,marker='o',linestyle='')\n",
        "plt.plot(x,lr.predict(x), color='red')\n",
        "plt.axhline(y=mean, xmin=0.04, xmax=0.96, color='black')"
      ],
      "execution_count": 9,
      "outputs": [
        {
          "output_type": "execute_result",
          "data": {
            "text/plain": [
              "<matplotlib.lines.Line2D at 0x7ffb3ea27ac8>"
            ]
          },
          "metadata": {
            "tags": []
          },
          "execution_count": 9
        },
        {
          "output_type": "display_data",
          "data": {
            "image/png": "[encoded data removed]",
            "text/plain": [
              "<Figure size 432x288 with 1 Axes>"
            ]
          },
          "metadata": {
            "tags": [],
            "needs_background": "light"
          }
        }
      ]
    },
    {
      "cell_type": "code",
      "metadata": {
        "id": "L5gWxP0z21c9",
        "outputId": "54ae6cfe-96ae-4468-9efd-466a2f7bfc36",
        "colab": {
          "base_uri": "https://localhost:8080/",
          "height": 35
        }
      },
      "source": [
        "mean_squared_error(y, lr.predict(x))"
      ],
      "execution_count": 10,
      "outputs": [
        {
          "output_type": "execute_result",
          "data": {
            "text/plain": [
              "0.7200000000000001"
            ]
          },
          "metadata": {
            "tags": []
          },
          "execution_count": 10
        }
      ]
    },
    {
      "cell_type": "code",
      "metadata": {
        "id": "0inENzAH25YF",
        "outputId": "967509a1-1c61-4fef-8edb-f6ac87e175ae",
        "colab": {
          "base_uri": "https://localhost:8080/",
          "height": 107
        }
      },
      "source": [
        "print(lr.predict(x))"
      ],
      "execution_count": 11,
      "outputs": [
        {
          "output_type": "stream",
          "text": [
            "[[ 1.6]\n",
            " [ 3.8]\n",
            " [ 6. ]\n",
            " [ 8.2]\n",
            " [10.4]]\n"
          ],
          "name": "stdout"
        }
      ]
    },
    {
      "cell_type": "code",
      "metadata": {
        "id": "5OJSwI_C28S-"
      },
      "source": [
        "def myMSE(X, Y, line):\n",
        "  err=0\n",
        "\n",
        "  if(str(type(line)) == \"<class 'float'>\"):\n",
        "    for i in range(len(X)):\n",
        "        err +=(Y[i][0]-line)**2\n",
        "  else:\n",
        "    for i in range(len(X)):\n",
        "        err +=(Y[i][0]-line[i][0])**2\n",
        "\n",
        "  MSE = err/len(X)\n",
        "  return MSE"
      ],
      "execution_count": 12,
      "outputs": []
    },
    {
      "cell_type": "code",
      "metadata": {
        "id": "9eKaZEOo3Z-W",
        "outputId": "1c386548-bf1f-4825-dbe6-9eacbf84f133",
        "colab": {
          "base_uri": "https://localhost:8080/",
          "height": 35
        }
      },
      "source": [
        "print(\"MSE: \", myMSE(x,y,lr.predict(x)))"
      ],
      "execution_count": 13,
      "outputs": [
        {
          "output_type": "stream",
          "text": [
            "MSE:  0.7200000000000001\n"
          ],
          "name": "stdout"
        }
      ]
    },
    {
      "cell_type": "markdown",
      "metadata": {
        "id": "TFxUMqkE3fcB"
      },
      "source": [
        "**R squared**"
      ]
    },
    {
      "cell_type": "code",
      "metadata": {
        "id": "30QRp5d53hO5",
        "outputId": "f0dc8600-250a-42ae-ed4e-108d93e3dbeb",
        "colab": {
          "base_uri": "https://localhost:8080/",
          "height": 35
        }
      },
      "source": [
        "lr.score(x,y)"
      ],
      "execution_count": 14,
      "outputs": [
        {
          "output_type": "execute_result",
          "data": {
            "text/plain": [
              "0.9307692307692308"
            ]
          },
          "metadata": {
            "tags": []
          },
          "execution_count": 14
        }
      ]
    },
    {
      "cell_type": "code",
      "metadata": {
        "id": "UOjQ1bv23jhb"
      },
      "source": [
        "def myRsq(X,Y,model):\n",
        "  hap =0\n",
        "  for i in range(len(X)):\n",
        "    hap += Y[i][0]\n",
        "  mean = float(hap/len(X))\n",
        "  print(\"평균: \", mean)\n",
        "\n",
        "  model.fit(X,Y)\n",
        "\n",
        "  reg_mse=myMSE(X,Y,model.predict(X))\n",
        "  avg_mse=myMSE(X,Y,mean)\n",
        "  r= 1-(reg_mse/avg_mse)\n",
        "\n",
        "  print(\"R-squared :\", r)"
      ],
      "execution_count": 16,
      "outputs": []
    },
    {
      "cell_type": "code",
      "metadata": {
        "id": "ieXlZD8P38IK",
        "outputId": "84e5d404-fb1a-4c3a-a498-c854d5e0452b",
        "colab": {
          "base_uri": "https://localhost:8080/",
          "height": 53
        }
      },
      "source": [
        "myRsq(x,y,LinearRegression())"
      ],
      "execution_count": 18,
      "outputs": [
        {
          "output_type": "stream",
          "text": [
            "평균:  6.0\n",
            "R-squared : 0.9307692307692308\n"
          ],
          "name": "stdout"
        }
      ]
    },
    {
      "cell_type": "markdown",
      "metadata": {
        "id": "EIBDJ4x64BIj"
      },
      "source": [
        "**100개 데이터로 해보기**\n",
        "\n",
        "\n",
        "**데이터가 선형모델에 적합한 경우**"
      ]
    },
    {
      "cell_type": "code",
      "metadata": {
        "id": "LFWD6kT-4FfJ"
      },
      "source": [
        "data=100"
      ],
      "execution_count": 19,
      "outputs": []
    },
    {
      "cell_type": "code",
      "metadata": {
        "id": "_R8LcDym4WVw",
        "outputId": "ef13be6a-0267-4cb9-dd66-7b0b67c69e7d",
        "colab": {
          "base_uri": "https://localhost:8080/",
          "height": 35
        }
      },
      "source": [
        "x_train=[]\n",
        "for i in range(1,data+1):\n",
        "  x_train.append([i])\n",
        "\n",
        "x_train=np.array(x_train)\n",
        "x_train.shape"
      ],
      "execution_count": 24,
      "outputs": [
        {
          "output_type": "execute_result",
          "data": {
            "text/plain": [
              "(100, 1)"
            ]
          },
          "metadata": {
            "tags": []
          },
          "execution_count": 24
        }
      ]
    },
    {
      "cell_type": "code",
      "metadata": {
        "id": "dFq7g8pV4tvO",
        "outputId": "44bccd63-edc8-43dd-e346-95dc6efb9297",
        "colab": {
          "base_uri": "https://localhost:8080/",
          "height": 35
        }
      },
      "source": [
        "y_train1=[]\n",
        "for i in range(1,data+1): \n",
        "  y_train1.append([i+random.uniform(-20,20)])\n",
        "                  \n",
        "y_train1=np.array(y_train1)\n",
        "y_train1.shape"
      ],
      "execution_count": 26,
      "outputs": [
        {
          "output_type": "execute_result",
          "data": {
            "text/plain": [
              "(100, 1)"
            ]
          },
          "metadata": {
            "tags": []
          },
          "execution_count": 26
        }
      ]
    },
    {
      "cell_type": "code",
      "metadata": {
        "id": "wE9YDZHj4hsd",
        "outputId": "ba1c2564-d2b4-4c12-abea-d27ded6649f0",
        "colab": {
          "base_uri": "https://localhost:8080/",
          "height": 297
        }
      },
      "source": [
        "plt.plot(x_train, y_train1, marker='o', linestyle='')\n",
        "plt.xlabel('X')\n",
        "plt.ylabel('V')"
      ],
      "execution_count": 27,
      "outputs": [
        {
          "output_type": "execute_result",
          "data": {
            "text/plain": [
              "Text(0, 0.5, 'V')"
            ]
          },
          "metadata": {
            "tags": []
          },
          "execution_count": 27
        },
        {
          "output_type": "display_data",
          "data": {
            "image/png": "[encoded data removed]",
            "text/plain": [
              "<Figure size 432x288 with 1 Axes>"
            ]
          },
          "metadata": {
            "tags": [],
            "needs_background": "light"
          }
        }
      ]
    },
    {
      "cell_type": "markdown",
      "metadata": {
        "id": "EXD-eWet5rGZ"
      },
      "source": [
        "**2.모델에 넣기**"
      ]
    },
    {
      "cell_type": "code",
      "metadata": {
        "id": "hGTY1vtq5s_O",
        "outputId": "81cb49c0-ca53-4a6e-c48b-45a951e3be9c",
        "colab": {
          "base_uri": "https://localhost:8080/",
          "height": 35
        }
      },
      "source": [
        "lr.fit(x_train,y_train1)"
      ],
      "execution_count": 28,
      "outputs": [
        {
          "output_type": "execute_result",
          "data": {
            "text/plain": [
              "LinearRegression(copy_X=True, fit_intercept=True, n_jobs=None, normalize=False)"
            ]
          },
          "metadata": {
            "tags": []
          },
          "execution_count": 28
        }
      ]
    },
    {
      "cell_type": "code",
      "metadata": {
        "id": "UJxPaLnl5wW-",
        "outputId": "6d1bb026-87cd-422a-fa69-a1b438583065",
        "colab": {
          "base_uri": "https://localhost:8080/",
          "height": 35
        }
      },
      "source": [
        "mean=0\n",
        "for i in y_train1:\n",
        "    for j in i:\n",
        "        mean+=j\n",
        "mean=mean/data\n",
        "print(mean)"
      ],
      "execution_count": 29,
      "outputs": [
        {
          "output_type": "stream",
          "text": [
            "50.36371576074716\n"
          ],
          "name": "stdout"
        }
      ]
    },
    {
      "cell_type": "code",
      "metadata": {
        "id": "ZRUq951p57J1",
        "outputId": "b3c65da1-2e8a-4653-d81e-0468440469d1",
        "colab": {
          "base_uri": "https://localhost:8080/",
          "height": 297
        }
      },
      "source": [
        "plt.plot(x_train, y_train1, marker='o', linestyle='')\n",
        "plt.xlabel('X')\n",
        "plt.ylabel('Y')\n",
        "plt.plot(x_train, lr.predict(x_train), color='red')\n",
        "plt.axhline(y=mean, xmin=0.04, xmax=0.96, color='black')"
      ],
      "execution_count": 30,
      "outputs": [
        {
          "output_type": "execute_result",
          "data": {
            "text/plain": [
              "<matplotlib.lines.Line2D at 0x7ffb3c134f60>"
            ]
          },
          "metadata": {
            "tags": []
          },
          "execution_count": 30
        },
        {
          "output_type": "display_data",
          "data": {
            "image/png": "[encoded data removed]",
            "text/plain": [
              "<Figure size 432x288 with 1 Axes>"
            ]
          },
          "metadata": {
            "tags": [],
            "needs_background": "light"
          }
        }
      ]
    },
    {
      "cell_type": "code",
      "metadata": {
        "id": "DEUX0NPT6TRL",
        "outputId": "f18bb83d-227a-4e46-9ad8-57d721b32263",
        "colab": {
          "base_uri": "https://localhost:8080/",
          "height": 35
        }
      },
      "source": [
        "lr.score(x_train, y_train1)"
      ],
      "execution_count": 31,
      "outputs": [
        {
          "output_type": "execute_result",
          "data": {
            "text/plain": [
              "0.8581530772302185"
            ]
          },
          "metadata": {
            "tags": []
          },
          "execution_count": 31
        }
      ]
    },
    {
      "cell_type": "code",
      "metadata": {
        "id": "guX-X4Dd6VsS",
        "outputId": "d3bb449b-e5c2-46b6-e912-56656ff41d46",
        "colab": {
          "base_uri": "https://localhost:8080/",
          "height": 53
        }
      },
      "source": [
        "myRsq(x_train, y_train1, LinearRegression())"
      ],
      "execution_count": 32,
      "outputs": [
        {
          "output_type": "stream",
          "text": [
            "평균:  50.36371576074716\n",
            "R-squared : 0.8581530772302185\n"
          ],
          "name": "stdout"
        }
      ]
    },
    {
      "cell_type": "markdown",
      "metadata": {
        "id": "KM5IAiDQ6aLN"
      },
      "source": [
        "**데이터가 선형모델에 부적합한 경우**"
      ]
    },
    {
      "cell_type": "code",
      "metadata": {
        "id": "_YC9IqLL6cZm",
        "outputId": "0682f081-b9d7-473a-edad-601f095ae54c",
        "colab": {
          "base_uri": "https://localhost:8080/",
          "height": 35
        }
      },
      "source": [
        "y_train2=[]\n",
        "for i in range(1, data+1):\n",
        "  y_train2.append([i+random.uniform(-400,400)])\n",
        "\n",
        "y_train2=np.array(y_train2)\n",
        "y_train2.shape"
      ],
      "execution_count": 33,
      "outputs": [
        {
          "output_type": "execute_result",
          "data": {
            "text/plain": [
              "(100, 1)"
            ]
          },
          "metadata": {
            "tags": []
          },
          "execution_count": 33
        }
      ]
    },
    {
      "cell_type": "code",
      "metadata": {
        "id": "LnhhSfsV6vEc",
        "outputId": "c0e862e9-92ac-42e0-fe6b-424f974585e0",
        "colab": {
          "base_uri": "https://localhost:8080/",
          "height": 297
        }
      },
      "source": [
        "plt.plot(x_train, y_train2, marker='o', linestyle='')\n",
        "plt.xlabel('X')\n",
        "plt.ylabel('Y')"
      ],
      "execution_count": 34,
      "outputs": [
        {
          "output_type": "execute_result",
          "data": {
            "text/plain": [
              "Text(0, 0.5, 'Y')"
            ]
          },
          "metadata": {
            "tags": []
          },
          "execution_count": 34
        },
        {
          "output_type": "display_data",
          "data": {
            "image/png": "[encoded data removed]",
            "text/plain": [
              "<Figure size 432x288 with 1 Axes>"
            ]
          },
          "metadata": {
            "tags": [],
            "needs_background": "light"
          }
        }
      ]
    },
    {
      "cell_type": "code",
      "metadata": {
        "id": "KYFgurxt63m1",
        "outputId": "d8aceebe-6ca4-4e3f-d44f-ca74131b46fd",
        "colab": {
          "base_uri": "https://localhost:8080/",
          "height": 35
        }
      },
      "source": [
        "mean=0\n",
        "for i in y_train2:\n",
        "  for j in i:\n",
        "      mean+=j\n",
        "mean=mean/data\n",
        "print(mean)"
      ],
      "execution_count": 35,
      "outputs": [
        {
          "output_type": "stream",
          "text": [
            "49.78095778116982\n"
          ],
          "name": "stdout"
        }
      ]
    },
    {
      "cell_type": "code",
      "metadata": {
        "id": "plmg0Cxo6_hs",
        "outputId": "0657c42b-3913-4df5-88da-0358153c73fc",
        "colab": {
          "base_uri": "https://localhost:8080/",
          "height": 35
        }
      },
      "source": [
        "lr.fit(x_train, y_train2)"
      ],
      "execution_count": 36,
      "outputs": [
        {
          "output_type": "execute_result",
          "data": {
            "text/plain": [
              "LinearRegression(copy_X=True, fit_intercept=True, n_jobs=None, normalize=False)"
            ]
          },
          "metadata": {
            "tags": []
          },
          "execution_count": 36
        }
      ]
    },
    {
      "cell_type": "code",
      "metadata": {
        "id": "ji6Kg2d07JH3",
        "outputId": "99689a58-ccb2-40aa-966f-9604c36bff82",
        "colab": {
          "base_uri": "https://localhost:8080/",
          "height": 297
        }
      },
      "source": [
        "plt.plot(x_train, y_train2, marker='o', linestyle='')\n",
        "plt.xlabel('X')\n",
        "plt.ylabel('Y')\n",
        "plt.plot(x_train, lr.predict(x_train),color='red')\n",
        "plt.axhline(y=mean, xmin=0.04, xmax=0.96, color='black')"
      ],
      "execution_count": 39,
      "outputs": [
        {
          "output_type": "execute_result",
          "data": {
            "text/plain": [
              "<matplotlib.lines.Line2D at 0x7ffb3ea54fd0>"
            ]
          },
          "metadata": {
            "tags": []
          },
          "execution_count": 39
        },
        {
          "output_type": "display_data",
          "data": {
            "image/png": "[encoded data removed]",
            "text/plain": [
              "<Figure size 432x288 with 1 Axes>"
            ]
          },
          "metadata": {
            "tags": [],
            "needs_background": "light"
          }
        }
      ]
    },
    {
      "cell_type": "code",
      "metadata": {
        "id": "dhECa98i7ffK",
        "outputId": "d6c4f71b-a747-42f2-d03d-99a09f8f92c2",
        "colab": {
          "base_uri": "https://localhost:8080/",
          "height": 35
        }
      },
      "source": [
        "lr.score(x_train, y_train2)"
      ],
      "execution_count": 40,
      "outputs": [
        {
          "output_type": "execute_result",
          "data": {
            "text/plain": [
              "0.03733280168439446"
            ]
          },
          "metadata": {
            "tags": []
          },
          "execution_count": 40
        }
      ]
    },
    {
      "cell_type": "code",
      "metadata": {
        "id": "CZ731Fl47iRr",
        "outputId": "c08d09d2-b874-45dd-c2b4-34383ac0dfe2",
        "colab": {
          "base_uri": "https://localhost:8080/",
          "height": 53
        }
      },
      "source": [
        "myRsq(x_train, y_train2, LinearRegression())"
      ],
      "execution_count": 41,
      "outputs": [
        {
          "output_type": "stream",
          "text": [
            "평균:  49.78095778116982\n",
            "R-squared : 0.0373328016843939\n"
          ],
          "name": "stdout"
        }
      ]
    }
  ]
}