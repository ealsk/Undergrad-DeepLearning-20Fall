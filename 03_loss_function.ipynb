{
  "nbformat": 4,
  "nbformat_minor": 0,
  "metadata": {
    "colab": {
      "name": "03_loss_function.ipynb",
      "provenance": [],
      "collapsed_sections": [],
      "authorship_tag": "ABX9TyOIDg+aiajJotWd3ke5Tb6S",
      "include_colab_link": true
    },
    "kernelspec": {
      "name": "python3",
      "display_name": "Python 3"
    }
  },
  "cells": [
    {
      "cell_type": "markdown",
      "metadata": {
        "id": "view-in-github",
        "colab_type": "text"
      },
      "source": [
        "<a href=\"https://colab.research.google.com/github/ealsk/Undergrad-DeepLearning-20Fall/blob/master/03_loss_function.ipynb\" target=\"_parent\"><img src=\"https://colab.research.google.com/assets/colab-badge.svg\" alt=\"Open In Colab\"/></a>"
      ]
    },
    {
      "cell_type": "code",
      "metadata": {
        "id": "QBdlS6KwX5_b"
      },
      "source": [
        "import numpy as np"
      ],
      "execution_count": 1,
      "outputs": []
    },
    {
      "cell_type": "markdown",
      "metadata": {
        "id": "ZuorLurNX-Ts"
      },
      "source": [
        "**Mean Square Error (MSE)**"
      ]
    },
    {
      "cell_type": "code",
      "metadata": {
        "id": "dy_ZiSGqYAAV"
      },
      "source": [
        "def MSE(y, t):\n",
        "    loss = 0.5 * np.sum((y-t)**2)\n",
        "    return loss"
      ],
      "execution_count": 2,
      "outputs": []
    },
    {
      "cell_type": "code",
      "metadata": {
        "id": "jZmY4JdWYCQw"
      },
      "source": [
        "t = [ 0, 0, 1, 0, 0, 0, 0, 0, 0, 0]\n",
        "\n",
        "y1 = [0.2, 0.01, 0.5, 0.0, 0.02, 0.01, 0.0, 0.15, 0.1, 0.02]\n",
        "y2 = [0.2, 0.01, 0.0, 0.5, 0.02, 0.01, 0.0, 0.15, 0.1, 0.02]"
      ],
      "execution_count": 3,
      "outputs": []
    },
    {
      "cell_type": "code",
      "metadata": {
        "id": "CJfSqKezYDze"
      },
      "source": [
        "loss1 = MSE(np.array(t), np.array(y1))\n",
        "loss2 = MSE(np.array(t), np.array(y2))"
      ],
      "execution_count": 4,
      "outputs": []
    },
    {
      "cell_type": "code",
      "metadata": {
        "colab": {
          "base_uri": "https://localhost:8080/"
        },
        "id": "GgeJCb-5YE4_",
        "outputId": "6ae1f44f-cdfa-4d49-ff8f-468bcbeaf872"
      },
      "source": [
        "print(loss1)\n",
        "print(loss2)"
      ],
      "execution_count": 10,
      "outputs": [
        {
          "output_type": "stream",
          "text": [
            "0.16175000000000003\n",
            "0.66175\n"
          ],
          "name": "stdout"
        }
      ]
    },
    {
      "cell_type": "markdown",
      "metadata": {
        "id": "tc8H_hq4YF3n"
      },
      "source": [
        "**교차 엔트로피 오차: Cross Entropy Erro**"
      ]
    },
    {
      "cell_type": "code",
      "metadata": {
        "id": "NJlmfDbdYITh"
      },
      "source": [
        "def CEE(y, t):\n",
        "    epsilon = 0.00000001\n",
        "    v_temp = t * np.log(y + epsilon)\n",
        "    loss = -np.sum(v_temp)\n",
        "    return loss"
      ],
      "execution_count": 11,
      "outputs": []
    },
    {
      "cell_type": "code",
      "metadata": {
        "colab": {
          "base_uri": "https://localhost:8080/"
        },
        "id": "Y4l_6dmcYKI7",
        "outputId": "7ccdee47-e5f9-4d1c-ee89-1f495ae75ab4"
      },
      "source": [
        "l1 = CEE(np.array(t), np.array(y1))\n",
        "print(l1)"
      ],
      "execution_count": 12,
      "outputs": [
        {
          "output_type": "stream",
          "text": [
            "9.394547174415708\n"
          ],
          "name": "stdout"
        }
      ]
    },
    {
      "cell_type": "code",
      "metadata": {
        "colab": {
          "base_uri": "https://localhost:8080/"
        },
        "id": "4od4O7PyYMMU",
        "outputId": "78943312-7f5c-43d2-c9ee-f198ddc9762e"
      },
      "source": [
        "l2 = CEE(np.array(t), np.array(y2))\n",
        "print(l2)"
      ],
      "execution_count": 13,
      "outputs": [
        {
          "output_type": "stream",
          "text": [
            "18.60488755139189\n"
          ],
          "name": "stdout"
        }
      ]
    },
    {
      "cell_type": "code",
      "metadata": {
        "id": "vJusSbAbYNGD"
      },
      "source": [
        "\n",
        "t  = [ 0, 1]\n",
        "\n",
        "y1 = [ 0.2, 0.8]\n",
        "y2 = [ 0.8, 0.2]\n",
        "y3 = [ 0.1, 0.9]"
      ],
      "execution_count": 14,
      "outputs": []
    },
    {
      "cell_type": "markdown",
      "metadata": {
        "id": "ATTH_uWkYOQK"
      },
      "source": [
        "TODO: 아래처럼 loss를 출력해보세요"
      ]
    },
    {
      "cell_type": "code",
      "metadata": {
        "id": "H5DGeEcrYT3s"
      },
      "source": [
        ""
      ],
      "execution_count": null,
      "outputs": []
    },
    {
      "cell_type": "markdown",
      "metadata": {
        "id": "jGXc4QkcYSDH"
      },
      "source": [
        "**Expected Output:**\n",
        "\n",
        "loss1 = 3.684136140790474\n",
        "\n",
        "loss2 = 14.736544593161895\n",
        "\n",
        "loss3 = 1.842068065395237"
      ]
    }
  ]
}