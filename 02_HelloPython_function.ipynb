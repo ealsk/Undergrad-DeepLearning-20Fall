{
  "nbformat": 4,
  "nbformat_minor": 0,
  "metadata": {
    "colab": {
      "name": "02-HelloPython-function.ipynb",
      "provenance": [],
      "authorship_tag": "ABX9TyMPOqsDcpji3OT4rGQ0xsXC"
    },
    "kernelspec": {
      "name": "python3",
      "display_name": "Python 3"
    }
  },
  "cells": [
    {
      "cell_type": "code",
      "metadata": {
        "id": "8PveVGOHQ3sw"
      },
      "source": [
        "def hello():\n",
        "    print(\"Hello World\")"
      ],
      "execution_count": 1,
      "outputs": []
    },
    {
      "cell_type": "code",
      "metadata": {
        "colab": {
          "base_uri": "https://localhost:8080/"
        },
        "id": "KqFQjM7lQ8NQ",
        "outputId": "043a1f04-e928-42de-bef9-9b9a2737f3f7"
      },
      "source": [
        "hello()"
      ],
      "execution_count": 2,
      "outputs": [
        {
          "output_type": "stream",
          "text": [
            "Hello World\n"
          ],
          "name": "stdout"
        }
      ]
    },
    {
      "cell_type": "code",
      "metadata": {
        "id": "cOqNNlz0Q9zg"
      },
      "source": [
        "def hello(object):\n",
        "    print(\"Hello \" + object + \"!\")"
      ],
      "execution_count": 3,
      "outputs": []
    },
    {
      "cell_type": "code",
      "metadata": {
        "colab": {
          "base_uri": "https://localhost:8080/"
        },
        "id": "iNU5GKO4Q_Zs",
        "outputId": "fc35102b-8505-4124-b080-1d256827e781"
      },
      "source": [
        "hello(\"dog\")"
      ],
      "execution_count": 4,
      "outputs": [
        {
          "output_type": "stream",
          "text": [
            "Hello dog!\n"
          ],
          "name": "stdout"
        }
      ]
    },
    {
      "cell_type": "code",
      "metadata": {
        "id": "W_p4PvYLRBrO"
      },
      "source": [
        "def mySum(a, b):\n",
        "    return a+b"
      ],
      "execution_count": 5,
      "outputs": []
    },
    {
      "cell_type": "code",
      "metadata": {
        "colab": {
          "base_uri": "https://localhost:8080/"
        },
        "id": "GAp7i6ktRCly",
        "outputId": "53806f65-338b-4244-87a9-d31db331c09f"
      },
      "source": [
        "c = mySum(2, 3)\n",
        "print(c)"
      ],
      "execution_count": 6,
      "outputs": [
        {
          "output_type": "stream",
          "text": [
            "5\n"
          ],
          "name": "stdout"
        }
      ]
    },
    {
      "cell_type": "code",
      "metadata": {
        "id": "F1GmVqj4REBo"
      },
      "source": [
        "class Man:\n",
        "    def __init__(self, name):\n",
        "        self.name = name\n",
        "        print(\"Initialized!\")\n",
        "    def hello(self):\n",
        "        print(\"Hello \" + self.name + \" !\")\n",
        "        \n",
        "    def goodbye(self):\n",
        "        print(\"Good-bye \" + self.name + \" !\")"
      ],
      "execution_count": 7,
      "outputs": []
    },
    {
      "cell_type": "code",
      "metadata": {
        "colab": {
          "base_uri": "https://localhost:8080/"
        },
        "id": "9ZF2MAlzRFjY",
        "outputId": "57225853-fa5f-4d8e-fd51-72b5e43f104d"
      },
      "source": [
        "m = Man(\"David\")"
      ],
      "execution_count": 8,
      "outputs": [
        {
          "output_type": "stream",
          "text": [
            "Initialized!\n"
          ],
          "name": "stdout"
        }
      ]
    },
    {
      "cell_type": "code",
      "metadata": {
        "colab": {
          "base_uri": "https://localhost:8080/"
        },
        "id": "YJ8_6A4kRGJx",
        "outputId": "362e41b5-fd0b-4777-be11-f6efd38ae840"
      },
      "source": [
        "m.hello()"
      ],
      "execution_count": 9,
      "outputs": [
        {
          "output_type": "stream",
          "text": [
            "Hello David !\n"
          ],
          "name": "stdout"
        }
      ]
    },
    {
      "cell_type": "code",
      "metadata": {
        "id": "TF9GTJSzRIUq",
        "outputId": "ff9ae485-b2a9-4709-b54d-98dd7ce02124",
        "colab": {
          "base_uri": "https://localhost:8080/"
        }
      },
      "source": [
        "m.goodbye()"
      ],
      "execution_count": 10,
      "outputs": [
        {
          "output_type": "stream",
          "text": [
            "Good-bye David !\n"
          ],
          "name": "stdout"
        }
      ]
    }
  ]
}