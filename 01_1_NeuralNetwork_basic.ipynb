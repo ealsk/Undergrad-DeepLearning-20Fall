{
  "nbformat": 4,
  "nbformat_minor": 0,
  "metadata": {
    "colab": {
      "name": "01_1_NeuralNetwork_basic.ipynb",
      "provenance": [],
      "collapsed_sections": [],
      "authorship_tag": "ABX9TyO5VuVQuOqTyFmAn6onCzLY",
      "include_colab_link": true
    },
    "kernelspec": {
      "name": "python3",
      "display_name": "Python 3"
    }
  },
  "cells": [
    {
      "cell_type": "markdown",
      "metadata": {
        "id": "view-in-github",
        "colab_type": "text"
      },
      "source": [
        "<a href=\"https://colab.research.google.com/github/ealsk/Undergrad-DeepLearning-20Fall/blob/master/01_1_NeuralNetwork_basic.ipynb\" target=\"_parent\"><img src=\"https://colab.research.google.com/assets/colab-badge.svg\" alt=\"Open In Colab\"/></a>"
      ]
    },
    {
      "cell_type": "code",
      "metadata": {
        "id": "zV_v9S6PScC8"
      },
      "source": [
        "import numpy as np"
      ],
      "execution_count": 1,
      "outputs": []
    },
    {
      "cell_type": "markdown",
      "metadata": {
        "id": "a-6RukKqUa3t"
      },
      "source": [
        "입력 층 (input layer)"
      ]
    },
    {
      "cell_type": "code",
      "metadata": {
        "id": "3qFscc6JSd9h"
      },
      "source": [
        "X = np.array([1.0, 0.5])"
      ],
      "execution_count": 2,
      "outputs": []
    },
    {
      "cell_type": "code",
      "metadata": {
        "colab": {
          "base_uri": "https://localhost:8080/",
          "height": 0
        },
        "id": "PyPJ1vbGUXPY",
        "outputId": "3de18abf-5c10-45b0-afd9-4fb9699d9894"
      },
      "source": [
        "X.shape"
      ],
      "execution_count": 3,
      "outputs": [
        {
          "output_type": "execute_result",
          "data": {
            "text/plain": [
              "(2,)"
            ]
          },
          "metadata": {
            "tags": []
          },
          "execution_count": 3
        }
      ]
    },
    {
      "cell_type": "code",
      "metadata": {
        "colab": {
          "base_uri": "https://localhost:8080/",
          "height": 0
        },
        "id": "5n-PElRAUX-x",
        "outputId": "d6ed070c-b178-449f-b07e-5c2c21ad68ce"
      },
      "source": [
        "X"
      ],
      "execution_count": 4,
      "outputs": [
        {
          "output_type": "execute_result",
          "data": {
            "text/plain": [
              "array([1. , 0.5])"
            ]
          },
          "metadata": {
            "tags": []
          },
          "execution_count": 4
        }
      ]
    },
    {
      "cell_type": "markdown",
      "metadata": {
        "id": "K1c3-LLjUZtQ"
      },
      "source": [
        "입력의 2개가 다음 layer에 있는 3개와 연결"
      ]
    },
    {
      "cell_type": "code",
      "metadata": {
        "id": "X3DXKVB6Ubbn"
      },
      "source": [
        "W1 = np.array([[0.1, 0.3, 0.5], [0.2, 0.4, 0.6]])"
      ],
      "execution_count": 6,
      "outputs": []
    },
    {
      "cell_type": "code",
      "metadata": {
        "colab": {
          "base_uri": "https://localhost:8080/",
          "height": 0
        },
        "id": "IpU0OolYUfz2",
        "outputId": "901e78fd-439d-4ed2-ae20-1812a2f22a42"
      },
      "source": [
        "W1.shape"
      ],
      "execution_count": 7,
      "outputs": [
        {
          "output_type": "execute_result",
          "data": {
            "text/plain": [
              "(2, 3)"
            ]
          },
          "metadata": {
            "tags": []
          },
          "execution_count": 7
        }
      ]
    },
    {
      "cell_type": "code",
      "metadata": {
        "colab": {
          "base_uri": "https://localhost:8080/",
          "height": 0
        },
        "id": "8WRYz1lDUgts",
        "outputId": "69da151d-f1e9-468f-823e-e231cfbda833"
      },
      "source": [
        "W1"
      ],
      "execution_count": 8,
      "outputs": [
        {
          "output_type": "execute_result",
          "data": {
            "text/plain": [
              "array([[0.1, 0.3, 0.5],\n",
              "       [0.2, 0.4, 0.6]])"
            ]
          },
          "metadata": {
            "tags": []
          },
          "execution_count": 8
        }
      ]
    },
    {
      "cell_type": "markdown",
      "metadata": {
        "id": "s3jXKUCsUhq_"
      },
      "source": [
        "곱해보기"
      ]
    },
    {
      "cell_type": "code",
      "metadata": {
        "id": "lJ4caee7Uivi"
      },
      "source": [
        "a1 = np.dot(X, W1)"
      ],
      "execution_count": 10,
      "outputs": []
    },
    {
      "cell_type": "code",
      "metadata": {
        "colab": {
          "base_uri": "https://localhost:8080/",
          "height": 0
        },
        "id": "oNung5-wUkaP",
        "outputId": "488b337c-6934-45c2-9033-9d22eb5a165b"
      },
      "source": [
        "a1.shape"
      ],
      "execution_count": 11,
      "outputs": [
        {
          "output_type": "execute_result",
          "data": {
            "text/plain": [
              "(3,)"
            ]
          },
          "metadata": {
            "tags": []
          },
          "execution_count": 11
        }
      ]
    },
    {
      "cell_type": "code",
      "metadata": {
        "colab": {
          "base_uri": "https://localhost:8080/",
          "height": 0
        },
        "id": "u4wdUfsNUlU_",
        "outputId": "2b79c681-cfdf-4458-e432-a24d19dfd81c"
      },
      "source": [
        "a1"
      ],
      "execution_count": 12,
      "outputs": [
        {
          "output_type": "execute_result",
          "data": {
            "text/plain": [
              "array([0.2, 0.5, 0.8])"
            ]
          },
          "metadata": {
            "tags": []
          },
          "execution_count": 12
        }
      ]
    },
    {
      "cell_type": "markdown",
      "metadata": {
        "id": "X1V9kPqgUnjE"
      },
      "source": [
        "**Q. 다음의 결과는? 그 결과의 의미는?**"
      ]
    },
    {
      "cell_type": "code",
      "metadata": {
        "colab": {
          "base_uri": "https://localhost:8080/",
          "height": 0
        },
        "id": "f-m3scgkUrYp",
        "outputId": "3fb4f1fe-c4e9-490f-e9b6-6f2c213f2881"
      },
      "source": [
        "1.0 * 0.1 + 0.5 * 0.2"
      ],
      "execution_count": 13,
      "outputs": [
        {
          "output_type": "execute_result",
          "data": {
            "text/plain": [
              "0.2"
            ]
          },
          "metadata": {
            "tags": []
          },
          "execution_count": 13
        }
      ]
    },
    {
      "cell_type": "markdown",
      "metadata": {
        "id": "zCbSfcOXU-Fa"
      },
      "source": [
        "의미: 1.0과 0.1을 곱한 값인 0.1, 0.5와 0.2를 곱한 값인 0.1을 합하여 0.2라는 숫자가 도출"
      ]
    },
    {
      "cell_type": "markdown",
      "metadata": {
        "id": "de1PvkSkUtvV"
      },
      "source": [
        "간단한 Forward 연산 해보기"
      ]
    },
    {
      "cell_type": "code",
      "metadata": {
        "id": "YKfkGodcUq1J"
      },
      "source": [
        "b1 = np.array([0.1, 0.2, 0.3])"
      ],
      "execution_count": 15,
      "outputs": []
    },
    {
      "cell_type": "code",
      "metadata": {
        "id": "_cf2T_VMUvYP"
      },
      "source": [
        "a1 = np.dot(X, W1) + b1"
      ],
      "execution_count": 17,
      "outputs": []
    },
    {
      "cell_type": "code",
      "metadata": {
        "colab": {
          "base_uri": "https://localhost:8080/",
          "height": 0
        },
        "id": "322wCDEbUw08",
        "outputId": "87f916f7-5101-4fe1-9122-0782adbee19e"
      },
      "source": [
        "print(a1)"
      ],
      "execution_count": 18,
      "outputs": [
        {
          "output_type": "stream",
          "text": [
            "[0.3 0.7 1.1]\n"
          ],
          "name": "stdout"
        }
      ]
    },
    {
      "cell_type": "markdown",
      "metadata": {
        "id": "L7ea4I1ZUx0S"
      },
      "source": [
        "numpy 의 dot 이해하기"
      ]
    },
    {
      "cell_type": "code",
      "metadata": {
        "id": "jG0QlQmEUyM2"
      },
      "source": [
        "x1 = np.array([[1, 2 ], [3, 4]])\n",
        "x2 = np.array([[5, 6 ], [7, 8]])"
      ],
      "execution_count": 19,
      "outputs": []
    },
    {
      "cell_type": "code",
      "metadata": {
        "colab": {
          "base_uri": "https://localhost:8080/",
          "height": 0
        },
        "id": "V42-MZSUU0Ll",
        "outputId": "b41c5997-3e2f-49fa-b525-0021870881c0"
      },
      "source": [
        "print(x1)"
      ],
      "execution_count": 20,
      "outputs": [
        {
          "output_type": "stream",
          "text": [
            "[[1 2]\n",
            " [3 4]]\n"
          ],
          "name": "stdout"
        }
      ]
    },
    {
      "cell_type": "code",
      "metadata": {
        "colab": {
          "base_uri": "https://localhost:8080/",
          "height": 0
        },
        "id": "g8QtsoNaU1Ue",
        "outputId": "6b35fc5d-c349-491f-c092-95f24a1f6c62"
      },
      "source": [
        "print(x2)"
      ],
      "execution_count": 21,
      "outputs": [
        {
          "output_type": "stream",
          "text": [
            "[[5 6]\n",
            " [7 8]]\n"
          ],
          "name": "stdout"
        }
      ]
    },
    {
      "cell_type": "code",
      "metadata": {
        "colab": {
          "base_uri": "https://localhost:8080/",
          "height": 0
        },
        "id": "v7vGtX_bU2d7",
        "outputId": "a05b3fdd-ba10-4d1d-b545-6f155a901b18"
      },
      "source": [
        "x1.shape"
      ],
      "execution_count": 22,
      "outputs": [
        {
          "output_type": "execute_result",
          "data": {
            "text/plain": [
              "(2, 2)"
            ]
          },
          "metadata": {
            "tags": []
          },
          "execution_count": 22
        }
      ]
    },
    {
      "cell_type": "code",
      "metadata": {
        "colab": {
          "base_uri": "https://localhost:8080/",
          "height": 0
        },
        "id": "qLteKLigU3Qu",
        "outputId": "8260686d-d2cc-4c07-8487-d66ab11cc881"
      },
      "source": [
        "x2.shape"
      ],
      "execution_count": 23,
      "outputs": [
        {
          "output_type": "execute_result",
          "data": {
            "text/plain": [
              "(2, 2)"
            ]
          },
          "metadata": {
            "tags": []
          },
          "execution_count": 23
        }
      ]
    },
    {
      "cell_type": "code",
      "metadata": {
        "colab": {
          "base_uri": "https://localhost:8080/",
          "height": 0
        },
        "id": "3tonZVosU4Qw",
        "outputId": "4f9da2dd-5e19-47d5-ab7e-596aeeadf33f"
      },
      "source": [
        "np.dot(x1, x2)"
      ],
      "execution_count": 24,
      "outputs": [
        {
          "output_type": "execute_result",
          "data": {
            "text/plain": [
              "array([[19, 22],\n",
              "       [43, 50]])"
            ]
          },
          "metadata": {
            "tags": []
          },
          "execution_count": 24
        }
      ]
    },
    {
      "cell_type": "code",
      "metadata": {
        "id": "8b43E3JpU5qn"
      },
      "source": [
        "x1 = np.array([[1, 2 ]])\n",
        "x2 = np.array([[5, 6 ], [7, 8]])"
      ],
      "execution_count": 25,
      "outputs": []
    },
    {
      "cell_type": "code",
      "metadata": {
        "colab": {
          "base_uri": "https://localhost:8080/",
          "height": 0
        },
        "id": "F69BRGI5U6kZ",
        "outputId": "302dd802-0110-4649-eae3-9d8431984e89"
      },
      "source": [
        "x1.shape"
      ],
      "execution_count": 26,
      "outputs": [
        {
          "output_type": "execute_result",
          "data": {
            "text/plain": [
              "(1, 2)"
            ]
          },
          "metadata": {
            "tags": []
          },
          "execution_count": 26
        }
      ]
    },
    {
      "cell_type": "code",
      "metadata": {
        "colab": {
          "base_uri": "https://localhost:8080/",
          "height": 0
        },
        "id": "TrOQJnO9U7bj",
        "outputId": "6de1aafa-738c-4162-d1a1-c12d38ee7a7f"
      },
      "source": [
        "x2.shape"
      ],
      "execution_count": 27,
      "outputs": [
        {
          "output_type": "execute_result",
          "data": {
            "text/plain": [
              "(2, 2)"
            ]
          },
          "metadata": {
            "tags": []
          },
          "execution_count": 27
        }
      ]
    },
    {
      "cell_type": "code",
      "metadata": {
        "colab": {
          "base_uri": "https://localhost:8080/",
          "height": 0
        },
        "id": "vA5xjRcEU8as",
        "outputId": "2e70a713-1725-4d9e-c1c6-d4a72e78c610"
      },
      "source": [
        "np.dot(x1, x2)"
      ],
      "execution_count": 28,
      "outputs": [
        {
          "output_type": "execute_result",
          "data": {
            "text/plain": [
              "array([[19, 22]])"
            ]
          },
          "metadata": {
            "tags": []
          },
          "execution_count": 28
        }
      ]
    }
  ]
}