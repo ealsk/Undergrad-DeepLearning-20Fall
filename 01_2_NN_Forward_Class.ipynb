{
  "nbformat": 4,
  "nbformat_minor": 0,
  "metadata": {
    "colab": {
      "name": "01_2_NN_Forward_Class.ipynb",
      "provenance": [],
      "collapsed_sections": [],
      "authorship_tag": "ABX9TyPWtk9rfy9DFXh5TmVQUWTc",
      "include_colab_link": true
    },
    "kernelspec": {
      "name": "python3",
      "display_name": "Python 3"
    }
  },
  "cells": [
    {
      "cell_type": "markdown",
      "metadata": {
        "id": "view-in-github",
        "colab_type": "text"
      },
      "source": [
        "<a href=\"https://colab.research.google.com/github/ealsk/Undergrad-DeepLearning-20Fall/blob/master/01_2_NN_Forward_Class.ipynb\" target=\"_parent\"><img src=\"https://colab.research.google.com/assets/colab-badge.svg\" alt=\"Open In Colab\"/></a>"
      ]
    },
    {
      "cell_type": "code",
      "metadata": {
        "id": "Q3NP4aMxWbpa"
      },
      "source": [
        "import numpy as np"
      ],
      "execution_count": 1,
      "outputs": []
    },
    {
      "cell_type": "markdown",
      "metadata": {
        "id": "u_M63E-fWkr1"
      },
      "source": [
        "**3층 신경망 구현**"
      ]
    },
    {
      "cell_type": "code",
      "metadata": {
        "id": "z5ghV5m-Wmmc"
      },
      "source": [
        "def sigmoid(x):\n",
        "    return 1 / (1+np.exp(-x))"
      ],
      "execution_count": 2,
      "outputs": []
    },
    {
      "cell_type": "code",
      "metadata": {
        "id": "V2j6IR5vWoHk"
      },
      "source": [
        "def identity_function(x):\n",
        "    return x"
      ],
      "execution_count": 3,
      "outputs": []
    },
    {
      "cell_type": "code",
      "metadata": {
        "id": "yV1IYpmzWpSl"
      },
      "source": [
        "def init_network():\n",
        "    network = {}\n",
        "    network['W1']= np.array([[0.1, 0.3, 0.5], [0.2, 0.4, 0.6]])\n",
        "    network['b1']= np.array([0.1, 0.2, 0.3])\n",
        "    network['W2']= np.array([[0.1, 0.4], [0.2, 0.5], [0.3, 0.6]])\n",
        "    network['b2']= np.array([0.1, 0.2])\n",
        "    network['W3']= np.array([[0.1, 0.3], [0.2, 0.4]])\n",
        "    network['b3']= np.array([0.1, 0.2])\n",
        "    \n",
        "    return network"
      ],
      "execution_count": 7,
      "outputs": []
    },
    {
      "cell_type": "code",
      "metadata": {
        "id": "rtAK4xMhWqU8"
      },
      "source": [
        "def forward(network, x):\n",
        "    W1, W2, W3 = network['W1'], network['W2'], network['W3']\n",
        "    b1, b2, b3 = network['b1'], network['b2'], network['b3']\n",
        "    \n",
        "    a1 = np.dot(x, W1) + b1\n",
        "    z1 = sigmoid(a1)\n",
        "    a2 = np.dot(z1, W2) + b2\n",
        "    z2 = sigmoid(a2)\n",
        "    a3 = np.dot(z2, W3) + b3\n",
        "    y = identity_function(a3)\n",
        "\n",
        "    return y"
      ],
      "execution_count": 8,
      "outputs": []
    },
    {
      "cell_type": "code",
      "metadata": {
        "colab": {
          "base_uri": "https://localhost:8080/"
        },
        "id": "yPtC38jKWtHx",
        "outputId": "b7345c97-f844-4e6d-b918-47e28300a5de"
      },
      "source": [
        "network = init_network()\n",
        "x = np.array([0.8, 1.0])  \n",
        "y = forward(network, x)    \n",
        "print(y)"
      ],
      "execution_count": 9,
      "outputs": [
        {
          "output_type": "stream",
          "text": [
            "[0.31880699 0.70067488]\n"
          ],
          "name": "stdout"
        }
      ]
    }
  ]
}