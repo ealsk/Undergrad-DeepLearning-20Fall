{
  "nbformat": 4,
  "nbformat_minor": 0,
  "metadata": {
    "colab": {
      "name": "04_3_gradient_descent.ipynb",
      "provenance": [],
      "collapsed_sections": [],
      "authorship_tag": "ABX9TyPFqLxDmNv27ACaxuGnEnjG",
      "include_colab_link": true
    },
    "kernelspec": {
      "name": "python3",
      "display_name": "Python 3"
    }
  },
  "cells": [
    {
      "cell_type": "markdown",
      "metadata": {
        "id": "view-in-github",
        "colab_type": "text"
      },
      "source": [
        "<a href=\"https://colab.research.google.com/github/ealsk/Undergrad-DeepLearning-20Fall/blob/master/04_3_gradient_descent.ipynb\" target=\"_parent\"><img src=\"https://colab.research.google.com/assets/colab-badge.svg\" alt=\"Open In Colab\"/></a>"
      ]
    },
    {
      "cell_type": "code",
      "metadata": {
        "id": "VvV72vju8_HN"
      },
      "source": [
        "import numpy as np\n",
        "import matplotlib.pylab as plt"
      ],
      "execution_count": null,
      "outputs": []
    },
    {
      "cell_type": "code",
      "metadata": {
        "id": "zd52iZhh9LOB"
      },
      "source": [
        "def function_2(x):\n",
        "    if x.ndim ==1:\n",
        "        return np.sum(x**2)\n",
        "    else:\n",
        "        return np.sum(x**2, axis=0)"
      ],
      "execution_count": null,
      "outputs": []
    },
    {
      "cell_type": "code",
      "metadata": {
        "id": "efmASwyZ-YNv"
      },
      "source": [
        "def numerical_gradient_single_point(f,x, verbose=False):\n",
        "    h = 1e-4\n",
        "    grad = np.zeros_like(x)\n",
        "    print('x.size={}'.format(x.size))\n",
        "\n",
        "    for idx in range(x.size):\n",
        "        v_keep = x[idx]\n",
        "\n",
        "        x[idx] = float(v_keep) + h\n",
        "        fxh1 = f(x)\n",
        "        if verbose:\n",
        "            print(x, '-->', fxh1)\n",
        "\n",
        "        x[idx] = float(v_keep) - h\n",
        "        fxh2 = f(x)\n",
        "        if verbose:\n",
        "            print(x, '-->', fxh2)\n",
        "\n",
        "        grad[idx] = (fxh1 - fxh2) / (2*h)\n",
        "        x[idx] = v_keep\n",
        "\n",
        "        if verbose:\n",
        "            print( 'grad [{}] = {}'. format (idx, grad [idx]))\n",
        "            print()\n",
        "\n",
        "    return grad\n"
      ],
      "execution_count": null,
      "outputs": []
    },
    {
      "cell_type": "code",
      "metadata": {
        "id": "fnvA_MXp-TSk"
      },
      "source": [
        "def numerical_gradient(f, X):\n",
        "    if X.ndim == 1:\n",
        "        return numerical_gradient_single_point(f, X)\n",
        "    else:\n",
        "        grad = np.zeros_like(X)\n",
        "        for idx, x in enumerate(X):\n",
        "            grad[idx] = numerical_gradient_single_point(f, x)\n",
        "            return grad\n"
      ],
      "execution_count": null,
      "outputs": []
    },
    {
      "cell_type": "code",
      "metadata": {
        "id": "S7qrjiXr9TbC"
      },
      "source": [
        "def gradient_descent(f, init_x, lr = 0.1, step_num=100, verbose= False):\n",
        "    x = init_x\n",
        "\n",
        "    for i in range(step_num):\n",
        "        grad = numerical_gradient(f,x)\n",
        "        if verbose:\n",
        "            print(x, grad)\n",
        "        x -= lr * grad\n",
        "\n",
        "    return x"
      ],
      "execution_count": null,
      "outputs": []
    },
    {
      "cell_type": "code",
      "metadata": {
        "id": "QkDWUs8x9xjI"
      },
      "source": [
        "init_x = np.array([-3.0, 4.0])"
      ],
      "execution_count": null,
      "outputs": []
    },
    {
      "cell_type": "code",
      "metadata": {
        "colab": {
          "base_uri": "https://localhost:8080/"
        },
        "id": "iLZlj8_T_WEH",
        "outputId": "30af9fdd-c624-4693-b974-97c8fc534fa6"
      },
      "source": [
        "x_final =gradient_descent(function_2, init_x = init_x, lr = 0.1 )"
      ],
      "execution_count": null,
      "outputs": [
        {
          "output_type": "stream",
          "text": [
            "x.size=2\n",
            "x.size=2\n",
            "x.size=2\n",
            "x.size=2\n",
            "x.size=2\n",
            "x.size=2\n",
            "x.size=2\n",
            "x.size=2\n",
            "x.size=2\n",
            "x.size=2\n",
            "x.size=2\n",
            "x.size=2\n",
            "x.size=2\n",
            "x.size=2\n",
            "x.size=2\n",
            "x.size=2\n",
            "x.size=2\n",
            "x.size=2\n",
            "x.size=2\n",
            "x.size=2\n",
            "x.size=2\n",
            "x.size=2\n",
            "x.size=2\n",
            "x.size=2\n",
            "x.size=2\n",
            "x.size=2\n",
            "x.size=2\n",
            "x.size=2\n",
            "x.size=2\n",
            "x.size=2\n",
            "x.size=2\n",
            "x.size=2\n",
            "x.size=2\n",
            "x.size=2\n",
            "x.size=2\n",
            "x.size=2\n",
            "x.size=2\n",
            "x.size=2\n",
            "x.size=2\n",
            "x.size=2\n",
            "x.size=2\n",
            "x.size=2\n",
            "x.size=2\n",
            "x.size=2\n",
            "x.size=2\n",
            "x.size=2\n",
            "x.size=2\n",
            "x.size=2\n",
            "x.size=2\n",
            "x.size=2\n",
            "x.size=2\n",
            "x.size=2\n",
            "x.size=2\n",
            "x.size=2\n",
            "x.size=2\n",
            "x.size=2\n",
            "x.size=2\n",
            "x.size=2\n",
            "x.size=2\n",
            "x.size=2\n",
            "x.size=2\n",
            "x.size=2\n",
            "x.size=2\n",
            "x.size=2\n",
            "x.size=2\n",
            "x.size=2\n",
            "x.size=2\n",
            "x.size=2\n",
            "x.size=2\n",
            "x.size=2\n",
            "x.size=2\n",
            "x.size=2\n",
            "x.size=2\n",
            "x.size=2\n",
            "x.size=2\n",
            "x.size=2\n",
            "x.size=2\n",
            "x.size=2\n",
            "x.size=2\n",
            "x.size=2\n",
            "x.size=2\n",
            "x.size=2\n",
            "x.size=2\n",
            "x.size=2\n",
            "x.size=2\n",
            "x.size=2\n",
            "x.size=2\n",
            "x.size=2\n",
            "x.size=2\n",
            "x.size=2\n",
            "x.size=2\n",
            "x.size=2\n",
            "x.size=2\n",
            "x.size=2\n",
            "x.size=2\n",
            "x.size=2\n",
            "x.size=2\n",
            "x.size=2\n",
            "x.size=2\n",
            "x.size=2\n"
          ],
          "name": "stdout"
        }
      ]
    },
    {
      "cell_type": "code",
      "metadata": {
        "colab": {
          "base_uri": "https://localhost:8080/"
        },
        "id": "5Ifc0kTp_log",
        "outputId": "07e51b34-3187-4e1d-a84c-7bd95575bf70"
      },
      "source": [
        "x_final"
      ],
      "execution_count": null,
      "outputs": [
        {
          "output_type": "execute_result",
          "data": {
            "text/plain": [
              "array([-8.10452420e-11,  1.08060323e-10])"
            ]
          },
          "metadata": {
            "tags": []
          },
          "execution_count": 29
        }
      ]
    },
    {
      "cell_type": "markdown",
      "metadata": {
        "id": "S0IFinn7AbqO"
      },
      "source": [
        "###**TODO 1**\n"
      ]
    },
    {
      "cell_type": "code",
      "metadata": {
        "colab": {
          "base_uri": "https://localhost:8080/"
        },
        "id": "_bWieGitAWm1",
        "outputId": "89eb86f4-3628-47e5-b1ce-7372a0f62a0c"
      },
      "source": [
        "x_final =gradient_descent(function_2, init_x = init_x, lr = 10.0 )"
      ],
      "execution_count": null,
      "outputs": [
        {
          "output_type": "stream",
          "text": [
            "x.size=2\n",
            "x.size=2\n",
            "x.size=2\n",
            "x.size=2\n",
            "x.size=2\n",
            "x.size=2\n",
            "x.size=2\n",
            "x.size=2\n",
            "x.size=2\n",
            "x.size=2\n",
            "x.size=2\n",
            "x.size=2\n",
            "x.size=2\n",
            "x.size=2\n",
            "x.size=2\n",
            "x.size=2\n",
            "x.size=2\n",
            "x.size=2\n",
            "x.size=2\n",
            "x.size=2\n",
            "x.size=2\n",
            "x.size=2\n",
            "x.size=2\n",
            "x.size=2\n",
            "x.size=2\n",
            "x.size=2\n",
            "x.size=2\n",
            "x.size=2\n",
            "x.size=2\n",
            "x.size=2\n",
            "x.size=2\n",
            "x.size=2\n",
            "x.size=2\n",
            "x.size=2\n",
            "x.size=2\n",
            "x.size=2\n",
            "x.size=2\n",
            "x.size=2\n",
            "x.size=2\n",
            "x.size=2\n",
            "x.size=2\n",
            "x.size=2\n",
            "x.size=2\n",
            "x.size=2\n",
            "x.size=2\n",
            "x.size=2\n",
            "x.size=2\n",
            "x.size=2\n",
            "x.size=2\n",
            "x.size=2\n",
            "x.size=2\n",
            "x.size=2\n",
            "x.size=2\n",
            "x.size=2\n",
            "x.size=2\n",
            "x.size=2\n",
            "x.size=2\n",
            "x.size=2\n",
            "x.size=2\n",
            "x.size=2\n",
            "x.size=2\n",
            "x.size=2\n",
            "x.size=2\n",
            "x.size=2\n",
            "x.size=2\n",
            "x.size=2\n",
            "x.size=2\n",
            "x.size=2\n",
            "x.size=2\n",
            "x.size=2\n",
            "x.size=2\n",
            "x.size=2\n",
            "x.size=2\n",
            "x.size=2\n",
            "x.size=2\n",
            "x.size=2\n",
            "x.size=2\n",
            "x.size=2\n",
            "x.size=2\n",
            "x.size=2\n",
            "x.size=2\n",
            "x.size=2\n",
            "x.size=2\n",
            "x.size=2\n",
            "x.size=2\n",
            "x.size=2\n",
            "x.size=2\n",
            "x.size=2\n",
            "x.size=2\n",
            "x.size=2\n",
            "x.size=2\n",
            "x.size=2\n",
            "x.size=2\n",
            "x.size=2\n",
            "x.size=2\n",
            "x.size=2\n",
            "x.size=2\n",
            "x.size=2\n",
            "x.size=2\n",
            "x.size=2\n"
          ],
          "name": "stdout"
        }
      ]
    },
    {
      "cell_type": "code",
      "metadata": {
        "colab": {
          "base_uri": "https://localhost:8080/"
        },
        "id": "ab0yrn3-AYyp",
        "outputId": "3f870802-4e07-496d-ff4a-f5d22532991e"
      },
      "source": [
        "x_final"
      ],
      "execution_count": null,
      "outputs": [
        {
          "output_type": "execute_result",
          "data": {
            "text/plain": [
              "array([-1.29863664e+13,  1.28237547e+13])"
            ]
          },
          "metadata": {
            "tags": []
          },
          "execution_count": 31
        }
      ]
    },
    {
      "cell_type": "code",
      "metadata": {
        "colab": {
          "base_uri": "https://localhost:8080/"
        },
        "id": "A-82X4eJAeod",
        "outputId": "0352e5ab-3ac4-49f7-dc91-6087eb16901e"
      },
      "source": [
        "x_final =gradient_descent(function_2, init_x = init_x, lr = 0.0001 )"
      ],
      "execution_count": null,
      "outputs": [
        {
          "output_type": "stream",
          "text": [
            "x.size=2\n",
            "x.size=2\n",
            "x.size=2\n",
            "x.size=2\n",
            "x.size=2\n",
            "x.size=2\n",
            "x.size=2\n",
            "x.size=2\n",
            "x.size=2\n",
            "x.size=2\n",
            "x.size=2\n",
            "x.size=2\n",
            "x.size=2\n",
            "x.size=2\n",
            "x.size=2\n",
            "x.size=2\n",
            "x.size=2\n",
            "x.size=2\n",
            "x.size=2\n",
            "x.size=2\n",
            "x.size=2\n",
            "x.size=2\n",
            "x.size=2\n",
            "x.size=2\n",
            "x.size=2\n",
            "x.size=2\n",
            "x.size=2\n",
            "x.size=2\n",
            "x.size=2\n",
            "x.size=2\n",
            "x.size=2\n",
            "x.size=2\n",
            "x.size=2\n",
            "x.size=2\n",
            "x.size=2\n",
            "x.size=2\n",
            "x.size=2\n",
            "x.size=2\n",
            "x.size=2\n",
            "x.size=2\n",
            "x.size=2\n",
            "x.size=2\n",
            "x.size=2\n",
            "x.size=2\n",
            "x.size=2\n",
            "x.size=2\n",
            "x.size=2\n",
            "x.size=2\n",
            "x.size=2\n",
            "x.size=2\n",
            "x.size=2\n",
            "x.size=2\n",
            "x.size=2\n",
            "x.size=2\n",
            "x.size=2\n",
            "x.size=2\n",
            "x.size=2\n",
            "x.size=2\n",
            "x.size=2\n",
            "x.size=2\n",
            "x.size=2\n",
            "x.size=2\n",
            "x.size=2\n",
            "x.size=2\n",
            "x.size=2\n",
            "x.size=2\n",
            "x.size=2\n",
            "x.size=2\n",
            "x.size=2\n",
            "x.size=2\n",
            "x.size=2\n",
            "x.size=2\n",
            "x.size=2\n",
            "x.size=2\n",
            "x.size=2\n",
            "x.size=2\n",
            "x.size=2\n",
            "x.size=2\n",
            "x.size=2\n",
            "x.size=2\n",
            "x.size=2\n",
            "x.size=2\n",
            "x.size=2\n",
            "x.size=2\n",
            "x.size=2\n",
            "x.size=2\n",
            "x.size=2\n",
            "x.size=2\n",
            "x.size=2\n",
            "x.size=2\n",
            "x.size=2\n",
            "x.size=2\n",
            "x.size=2\n",
            "x.size=2\n",
            "x.size=2\n",
            "x.size=2\n",
            "x.size=2\n",
            "x.size=2\n",
            "x.size=2\n",
            "x.size=2\n"
          ],
          "name": "stdout"
        }
      ]
    },
    {
      "cell_type": "code",
      "metadata": {
        "colab": {
          "base_uri": "https://localhost:8080/"
        },
        "id": "x562COnxAggS",
        "outputId": "19469d44-e19c-4f05-ee18-efabf0fefa81"
      },
      "source": [
        "x_final"
      ],
      "execution_count": null,
      "outputs": [
        {
          "output_type": "execute_result",
          "data": {
            "text/plain": [
              "array([-1.29863664e+13,  1.28237547e+13])"
            ]
          },
          "metadata": {
            "tags": []
          },
          "execution_count": 33
        }
      ]
    },
    {
      "cell_type": "markdown",
      "metadata": {
        "id": "j5F5psHbAdbV"
      },
      "source": [
        "lr 값을 작게 줄수록 변화를 하지 않기 때문에 원하는 값에 도달할 수 없다."
      ]
    },
    {
      "cell_type": "markdown",
      "metadata": {
        "id": "dB2Agb8TAsn-"
      },
      "source": [
        "###**TODO 2**\n"
      ]
    },
    {
      "cell_type": "markdown",
      "metadata": {
        "id": "FayFNjyFA2AF"
      },
      "source": [
        "3차원 공간에서의 좌표 궤적 그리기\n",
        "(lr= 0.001, 0.01, 0.1, 1, 10)"
      ]
    },
    {
      "cell_type": "code",
      "metadata": {
        "id": "tRb-hnKgA9Pd"
      },
      "source": [
        ""
      ],
      "execution_count": null,
      "outputs": []
    }
  ]
}