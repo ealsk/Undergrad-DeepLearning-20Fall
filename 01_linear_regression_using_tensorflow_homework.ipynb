{
  "nbformat": 4,
  "nbformat_minor": 0,
  "metadata": {
    "colab": {
      "name": "01_linear_regression_using_tensorflow_homework.ipynb",
      "provenance": [],
      "collapsed_sections": []
    },
    "kernelspec": {
      "name": "python3",
      "display_name": "Python 3"
    }
  },
  "cells": [
    {
      "cell_type": "markdown",
      "metadata": {
        "id": "o2AX--U9L1B1"
      },
      "source": [
        "**라이브러리 import 하기**"
      ]
    },
    {
      "cell_type": "code",
      "metadata": {
        "id": "9wVSfrjZKeoK",
        "outputId": "39101195-1d4d-497c-81b8-c8402a9fbd1c",
        "colab": {
          "base_uri": "https://localhost:8080/",
          "height": 90
        }
      },
      "source": [
        "import tensorflow.compat.v1 as tf\n",
        "tf.disable_v2_behavior()\n",
        "\n",
        "import numpy as np\n",
        "import matplotlib.pyplot as plt"
      ],
      "execution_count": 1,
      "outputs": [
        {
          "output_type": "stream",
          "text": [
            "WARNING:tensorflow:From /usr/local/lib/python3.6/dist-packages/tensorflow/python/compat/v2_compat.py:96: disable_resource_variables (from tensorflow.python.ops.variable_scope) is deprecated and will be removed in a future version.\n",
            "Instructions for updating:\n",
            "non-resource variables are not supported in the long term\n"
          ],
          "name": "stdout"
        }
      ]
    },
    {
      "cell_type": "markdown",
      "metadata": {
        "id": "l7W2SixbMMxj"
      },
      "source": [
        "**X and Y data(given)**"
      ]
    },
    {
      "cell_type": "code",
      "metadata": {
        "id": "VoLge7GDMR3L"
      },
      "source": [
        "x_train = [2, 4, 6, 8, 10]\n",
        "y_train = [5, 4, 3, 2, 1]\n",
        "signal_length = len(x_train)\n",
        "y_noise = np.random.normal(0,1,signal_length)\n",
        "\n",
        "y_train = y_train + y_noise"
      ],
      "execution_count": 2,
      "outputs": []
    },
    {
      "cell_type": "code",
      "metadata": {
        "id": "mazf7cPhMkSt",
        "outputId": "b9e2763c-9bb5-4944-ca79-bc357b9a37cc",
        "colab": {
          "base_uri": "https://localhost:8080/",
          "height": 265
        }
      },
      "source": [
        "plt.plot(x_train, y_train, '.-')\n",
        "plt.grid()"
      ],
      "execution_count": 3,
      "outputs": [
        {
          "output_type": "display_data",
          "data": {
            "image/png": "[encoded data removed]",
            "text/plain": [
              "<Figure size 432x288 with 1 Axes>"
            ]
          },
          "metadata": {
            "tags": [],
            "needs_background": "light"
          }
        }
      ]
    },
    {
      "cell_type": "markdown",
      "metadata": {
        "id": "Zl1CZR2zNwFE"
      },
      "source": [
        "**initalization**"
      ]
    },
    {
      "cell_type": "code",
      "metadata": {
        "id": "IbQck3HpMZdx"
      },
      "source": [
        "w = tf.Variable(tf.random_normal([1]), name='weight')\n",
        "b = tf.Variable(tf.random_normal([1]), name='wbias')\n",
        "\n",
        "w0 = 9.0;\n",
        "b0 = 4.0;\n",
        "\n",
        "w = tf.Variable(w0*tf.ones([1]), name='weight')\n",
        "b = tf.Variable(b0*tf.ones([1]), name='baias')"
      ],
      "execution_count": 5,
      "outputs": []
    },
    {
      "cell_type": "code",
      "metadata": {
        "id": "_CukgKJ1OAdJ"
      },
      "source": [
        "hyporthesis = x_train * w + b"
      ],
      "execution_count": 6,
      "outputs": []
    },
    {
      "cell_type": "code",
      "metadata": {
        "id": "6NyyBuawOsDp"
      },
      "source": [
        "loss = tf.reduce_mean(tf.square(hyporthesis - y_train))"
      ],
      "execution_count": 7,
      "outputs": []
    },
    {
      "cell_type": "markdown",
      "metadata": {
        "id": "oEwvojSOQUCB"
      },
      "source": [
        "**Optimizer**"
      ]
    },
    {
      "cell_type": "code",
      "metadata": {
        "id": "UAKE_f_sQKjl"
      },
      "source": [
        "optimizer = tf.train.GradientDescentOptimizer(learning_rate=0.01)\n",
        "train = optimizer.minimize(loss)"
      ],
      "execution_count": 8,
      "outputs": []
    },
    {
      "cell_type": "markdown",
      "metadata": {
        "id": "UAwEFmhfQXMT"
      },
      "source": [
        "**Launch the graph in a session**"
      ]
    },
    {
      "cell_type": "code",
      "metadata": {
        "id": "nDSIv3lJQaPa"
      },
      "source": [
        "sess = tf.Session()"
      ],
      "execution_count": 9,
      "outputs": []
    },
    {
      "cell_type": "markdown",
      "metadata": {
        "id": "VPC4YV9lQcB5"
      },
      "source": [
        "**Initializes global variables in the graph.**"
      ]
    },
    {
      "cell_type": "code",
      "metadata": {
        "id": "3kLo0iH7QgDh"
      },
      "source": [
        "sess.run(tf.global_variables_initializer())"
      ],
      "execution_count": 10,
      "outputs": []
    },
    {
      "cell_type": "code",
      "metadata": {
        "id": "RsKN_1xvRdVp",
        "outputId": "1a58ff92-90de-4dbe-c086-ef395e663895",
        "colab": {
          "base_uri": "https://localhost:8080/",
          "height": 210
        }
      },
      "source": [
        "nb_epoch = 2001\n",
        "\n",
        "for step in range(nb_epoch):\n",
        "    sess.run(train)\n",
        "    \n",
        "    if step % 200 == 0: \n",
        "        w1 = sess.run(w)[0] \n",
        "        b1 = sess.run(b)[0]\n",
        "        print(step, sess.run(loss), w1, b1)"
      ],
      "execution_count": 11,
      "outputs": [
        {
          "output_type": "stream",
          "text": [
            "0 41.432655 0.8582796 2.8931143\n",
            "200 0.39634684 -0.23312217 3.8661864\n",
            "400 0.24244113 -0.30690777 4.405086\n",
            "600 0.20562634 -0.34299526 4.668654\n",
            "800 0.19682005 -0.36064538 4.797563\n",
            "1000 0.19471374 -0.36927742 4.8606076\n",
            "1200 0.19420974 -0.37349918 4.8914423\n",
            "1400 0.19408944 -0.3755638 4.906521\n",
            "1600 0.19406047 -0.37657356 4.913896\n",
            "1800 0.19405352 -0.37706748 4.9175034\n",
            "2000 0.19405195 -0.37730896 4.919267\n"
          ],
          "name": "stdout"
        }
      ]
    },
    {
      "cell_type": "markdown",
      "metadata": {
        "id": "D2aL1jgMRwxA"
      },
      "source": [
        "**학습완료**"
      ]
    },
    {
      "cell_type": "code",
      "metadata": {
        "id": "xhPzPR4sRyia"
      },
      "source": [
        "w1 = sess.run(w)[0]\n",
        "b1 = sess.run(b)[0]\n"
      ],
      "execution_count": 12,
      "outputs": []
    },
    {
      "cell_type": "markdown",
      "metadata": {
        "id": "Oyyori-QR6OC"
      },
      "source": [
        "**출력해보기**"
      ]
    },
    {
      "cell_type": "code",
      "metadata": {
        "id": "Y8HrFJEwR7Vx",
        "outputId": "d712ffa2-5e46-4bc1-b854-042a3aba3bde",
        "colab": {
          "base_uri": "https://localhost:8080/",
          "height": 34
        }
      },
      "source": [
        "print(w1, b1)"
      ],
      "execution_count": 13,
      "outputs": [
        {
          "output_type": "stream",
          "text": [
            "-0.37730896 4.919267\n"
          ],
          "name": "stdout"
        }
      ]
    },
    {
      "cell_type": "code",
      "metadata": {
        "id": "Q5mO11ZlXon5",
        "outputId": "a5334f16-2a70-48b1-9d3f-1540b84a9a2b",
        "colab": {
          "base_uri": "https://localhost:8080/",
          "height": 34
        }
      },
      "source": [
        "strl = 'y =' + str(w1) + 'x +' + str(b1)\n",
        "print(strl)"
      ],
      "execution_count": 14,
      "outputs": [
        {
          "output_type": "stream",
          "text": [
            "y =-0.37730896x +4.919267\n"
          ],
          "name": "stdout"
        }
      ]
    },
    {
      "cell_type": "code",
      "metadata": {
        "id": "OpQtiKFbXv2u",
        "outputId": "606da308-d621-4e30-a842-a951a8e1eb1d",
        "colab": {
          "base_uri": "https://localhost:8080/",
          "height": 298
        }
      },
      "source": [
        "plt.figure(figsize=(6,4))\n",
        "plt.plot(x_train, y_train, 'o')\n",
        "\n",
        "x1 = np.linspace(np.min(x_train)-1, np.max(x_train)+1)\n",
        "y1 = w1*x1 + b1\n",
        "plt.plot(x1, y1)\n",
        "\n",
        "plt.grid()\n",
        "plt.title(strl)"
      ],
      "execution_count": 15,
      "outputs": [
        {
          "output_type": "execute_result",
          "data": {
            "text/plain": [
              "Text(0.5, 1.0, 'y =-0.37730896x +4.919267')"
            ]
          },
          "metadata": {
            "tags": []
          },
          "execution_count": 15
        },
        {
          "output_type": "display_data",
          "data": {
            "image/png": "[encoded data removed]",
            "text/plain": [
              "<Figure size 432x288 with 1 Axes>"
            ]
          },
          "metadata": {
            "tags": [],
            "needs_background": "light"
          }
        }
      ]
    }
  ]
}