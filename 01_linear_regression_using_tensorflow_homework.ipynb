{
  "nbformat": 4,
  "nbformat_minor": 0,
  "metadata": {
    "colab": {
      "name": "01_linear_regression_using_tensorflow_homework.ipynb",
      "provenance": [],
      "collapsed_sections": [],
      "authorship_tag": "ABX9TyP91BPQ9SWKMGCGGTOZ5K/V",
      "include_colab_link": true
    },
    "kernelspec": {
      "name": "python3",
      "display_name": "Python 3"
    }
  },
  "cells": [
    {
      "cell_type": "markdown",
      "metadata": {
        "id": "view-in-github",
        "colab_type": "text"
      },
      "source": [
        "<a href=\"https://colab.research.google.com/github/ealsk/Undergrad-DeepLearning-20Fall/blob/master/01_linear_regression_using_tensorflow_homework.ipynb\" target=\"_parent\"><img src=\"https://colab.research.google.com/assets/colab-badge.svg\" alt=\"Open In Colab\"/></a>"
      ]
    },
    {
      "cell_type": "markdown",
      "metadata": {
        "id": "o2AX--U9L1B1"
      },
      "source": [
        "**라이브러리 import 하기**"
      ]
    },
    {
      "cell_type": "code",
      "metadata": {
        "id": "9wVSfrjZKeoK",
        "outputId": "244a1d80-eecb-41fd-e3ee-ed50ba694fbd",
        "colab": {
          "base_uri": "https://localhost:8080/",
          "height": 90
        }
      },
      "source": [
        "import tensorflow.compat.v1 as tf\n",
        "tf.disable_v2_behavior()\n",
        "\n",
        "import numpy as np\n",
        "import matplotlib.pyplot as plt"
      ],
      "execution_count": 3,
      "outputs": [
        {
          "output_type": "stream",
          "text": [
            "WARNING:tensorflow:From /usr/local/lib/python3.6/dist-packages/tensorflow/python/compat/v2_compat.py:96: disable_resource_variables (from tensorflow.python.ops.variable_scope) is deprecated and will be removed in a future version.\n",
            "Instructions for updating:\n",
            "non-resource variables are not supported in the long term\n"
          ],
          "name": "stdout"
        }
      ]
    },
    {
      "cell_type": "markdown",
      "metadata": {
        "id": "l7W2SixbMMxj"
      },
      "source": [
        "**X and Y data(given)**"
      ]
    },
    {
      "cell_type": "code",
      "metadata": {
        "id": "VoLge7GDMR3L"
      },
      "source": [
        "x_train = [2, 4, 6, 8, 10]\n",
        "y_train = [5, 4, 3, 2, 1]\n",
        "signal_length = len(x_train)\n",
        "y_noise = np.random.normal(0,1,signal_length)\n",
        "\n",
        "y_train = y_train + y_noise"
      ],
      "execution_count": 4,
      "outputs": []
    },
    {
      "cell_type": "code",
      "metadata": {
        "id": "mazf7cPhMkSt",
        "outputId": "9c585174-267d-411d-dc3f-08f36baf227f",
        "colab": {
          "base_uri": "https://localhost:8080/",
          "height": 265
        }
      },
      "source": [
        "plt.plot(x_train, y_train, '.-')\n",
        "plt.grid()"
      ],
      "execution_count": 5,
      "outputs": [
        {
          "output_type": "display_data",
          "data": {
            "image/png": "[encoded data removed]",
            "text/plain": [
              "<Figure size 432x288 with 1 Axes>"
            ]
          },
          "metadata": {
            "tags": [],
            "needs_background": "light"
          }
        }
      ]
    },
    {
      "cell_type": "markdown",
      "metadata": {
        "id": "Zl1CZR2zNwFE"
      },
      "source": [
        "**initalization**"
      ]
    },
    {
      "cell_type": "code",
      "metadata": {
        "id": "IbQck3HpMZdx"
      },
      "source": [
        "w = tf.Variable(tf.random_normal([1]), name='weight')\n",
        "b = tf.Variable(tf.random_normal([1]), name='wbias')\n",
        "\n",
        "w0 = 9.0;\n",
        "b0 = 4.0;\n",
        "\n",
        "w = tf.Variable(w0*tf.ones([1]), name='weight')\n",
        "b = tf.Variable(b0*tf.ones([1]), name='baias')"
      ],
      "execution_count": 6,
      "outputs": []
    },
    {
      "cell_type": "code",
      "metadata": {
        "id": "_CukgKJ1OAdJ"
      },
      "source": [
        "hyporthesis = x_train * w + b"
      ],
      "execution_count": 7,
      "outputs": []
    },
    {
      "cell_type": "code",
      "metadata": {
        "id": "6NyyBuawOsDp"
      },
      "source": [
        "loss = tf.reduce_mean(tf.square(hyporthesis - y_train))"
      ],
      "execution_count": 8,
      "outputs": []
    },
    {
      "cell_type": "markdown",
      "metadata": {
        "id": "oEwvojSOQUCB"
      },
      "source": [
        "**Optimizer**"
      ]
    },
    {
      "cell_type": "code",
      "metadata": {
        "id": "UAKE_f_sQKjl"
      },
      "source": [
        "optimizer = tf.train.GradientDescentOptimizer(learning_rate=0.01)\n",
        "train = optimizer.minimize(loss)"
      ],
      "execution_count": 9,
      "outputs": []
    },
    {
      "cell_type": "markdown",
      "metadata": {
        "id": "UAwEFmhfQXMT"
      },
      "source": [
        "**Launch the graph in a session**"
      ]
    },
    {
      "cell_type": "code",
      "metadata": {
        "id": "nDSIv3lJQaPa"
      },
      "source": [
        "sess = tf.Session()"
      ],
      "execution_count": 10,
      "outputs": []
    },
    {
      "cell_type": "markdown",
      "metadata": {
        "id": "VPC4YV9lQcB5"
      },
      "source": [
        "**Initializes global variables in the graph.**"
      ]
    },
    {
      "cell_type": "code",
      "metadata": {
        "id": "3kLo0iH7QgDh"
      },
      "source": [
        "sess.run(tf.global_variables_initializer())"
      ],
      "execution_count": 11,
      "outputs": []
    },
    {
      "cell_type": "code",
      "metadata": {
        "id": "RsKN_1xvRdVp",
        "outputId": "18222d86-c22d-466f-c8f6-2d8f28f401c9",
        "colab": {
          "base_uri": "https://localhost:8080/",
          "height": 210
        }
      },
      "source": [
        "nb_epoch = 2001\n",
        "vloss = []\n",
        "vb = []\n",
        "vw = []\n",
        "\n",
        "for step in range(nb_epoch):\n",
        "    sess.run(train)\n",
        "    loss1 = sess.run(loss)\n",
        "    vloss.append(loss1)\n",
        "    \n",
        "    if step % 200 == 0: \n",
        "        w1 = sess.run(w)[0] \n",
        "        b1 = sess.run(b)[0]\n",
        "        print(step, sess.run(loss), w1, b1)"
      ],
      "execution_count": 19,
      "outputs": [
        {
          "output_type": "stream",
          "text": [
            "0 1.9188702 -0.5097412 6.0056415\n",
            "200 1.9188702 -0.5097412 6.0056415\n",
            "400 1.9188702 -0.5097412 6.0056415\n",
            "600 1.9188702 -0.5097412 6.0056415\n",
            "800 1.9188702 -0.5097412 6.0056415\n",
            "1000 1.9188702 -0.5097412 6.0056415\n",
            "1200 1.9188702 -0.5097412 6.0056415\n",
            "1400 1.9188702 -0.5097412 6.0056415\n",
            "1600 1.9188702 -0.5097412 6.0056415\n",
            "1800 1.9188702 -0.5097412 6.0056415\n",
            "2000 1.9188702 -0.5097412 6.0056415\n"
          ],
          "name": "stdout"
        }
      ]
    },
    {
      "cell_type": "markdown",
      "metadata": {
        "id": "D2aL1jgMRwxA"
      },
      "source": [
        "**학습완료**"
      ]
    },
    {
      "cell_type": "code",
      "metadata": {
        "id": "xhPzPR4sRyia"
      },
      "source": [
        "w1 = sess.run(w)[0]\n",
        "b1 = sess.run(b)[0]\n"
      ],
      "execution_count": 20,
      "outputs": []
    },
    {
      "cell_type": "markdown",
      "metadata": {
        "id": "Oyyori-QR6OC"
      },
      "source": [
        "**출력해보기**"
      ]
    },
    {
      "cell_type": "code",
      "metadata": {
        "id": "Y8HrFJEwR7Vx",
        "outputId": "b233188e-4bf2-4566-f2a3-309697ded8d8",
        "colab": {
          "base_uri": "https://localhost:8080/",
          "height": 34
        }
      },
      "source": [
        "print(w1, b1)"
      ],
      "execution_count": 21,
      "outputs": [
        {
          "output_type": "stream",
          "text": [
            "-0.5097412 6.0056415\n"
          ],
          "name": "stdout"
        }
      ]
    },
    {
      "cell_type": "code",
      "metadata": {
        "id": "Q5mO11ZlXon5",
        "outputId": "2114e708-71e0-4236-c9d1-f6be3d3961a9",
        "colab": {
          "base_uri": "https://localhost:8080/",
          "height": 34
        }
      },
      "source": [
        "strl = 'y =' + str(w1) + 'x +' + str(b1)\n",
        "print(strl)"
      ],
      "execution_count": 22,
      "outputs": [
        {
          "output_type": "stream",
          "text": [
            "y =-0.5097412x +6.0056415\n"
          ],
          "name": "stdout"
        }
      ]
    },
    {
      "cell_type": "code",
      "metadata": {
        "id": "OpQtiKFbXv2u",
        "outputId": "6f67f23f-8d84-466a-def8-ba83189717b9",
        "colab": {
          "base_uri": "https://localhost:8080/",
          "height": 298
        }
      },
      "source": [
        "plt.figure(figsize=(6,4))\n",
        "plt.plot(x_train, y_train, 'o')\n",
        "\n",
        "x1 = np.linspace(np.min(x_train)-1, np.max(x_train)+1)\n",
        "y1 = w1*x1 + b1\n",
        "plt.plot(x1, y1)\n",
        "\n",
        "plt.grid()\n",
        "plt.title(strl)"
      ],
      "execution_count": 23,
      "outputs": [
        {
          "output_type": "execute_result",
          "data": {
            "text/plain": [
              "Text(0.5, 1.0, 'y =-0.5097412x +6.0056415')"
            ]
          },
          "metadata": {
            "tags": []
          },
          "execution_count": 23
        },
        {
          "output_type": "display_data",
          "data": {
            "image/png": "[encoded data removed]",
            "text/plain": [
              "<Figure size 432x288 with 1 Axes>"
            ]
          },
          "metadata": {
            "tags": [],
            "needs_background": "light"
          }
        }
      ]
    }
  ]
}