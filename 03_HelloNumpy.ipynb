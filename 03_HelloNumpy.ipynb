{
  "nbformat": 4,
  "nbformat_minor": 0,
  "metadata": {
    "colab": {
      "name": "03-HelloNumpy.ipynb",
      "provenance": [],
      "authorship_tag": "ABX9TyNuR/G5sez3k0vUbDSMIx+X",
      "include_colab_link": true
    },
    "kernelspec": {
      "name": "python3",
      "display_name": "Python 3"
    }
  },
  "cells": [
    {
      "cell_type": "markdown",
      "metadata": {
        "id": "view-in-github",
        "colab_type": "text"
      },
      "source": [
        "<a href=\"https://colab.research.google.com/github/ealsk/Undergrad-DeepLearning-20Fall/blob/master/03_HelloNumpy.ipynb\" target=\"_parent\"><img src=\"https://colab.research.google.com/assets/colab-badge.svg\" alt=\"Open In Colab\"/></a>"
      ]
    },
    {
      "cell_type": "code",
      "metadata": {
        "id": "5IHrq6_VOf8e"
      },
      "source": [
        "import numpy as np\n",
        "import matplotlib.pyplot as plt"
      ],
      "execution_count": 1,
      "outputs": []
    },
    {
      "cell_type": "markdown",
      "metadata": {
        "id": "_BVrYNLtOvjF"
      },
      "source": [
        "List 형태의 배열"
      ]
    },
    {
      "cell_type": "code",
      "metadata": {
        "id": "Po1eMAxkOqiU"
      },
      "source": [
        "a = [1, 2, 3]"
      ],
      "execution_count": 2,
      "outputs": []
    },
    {
      "cell_type": "code",
      "metadata": {
        "colab": {
          "base_uri": "https://localhost:8080/",
          "height": 0
        },
        "id": "ztdvj4GIOsNe",
        "outputId": "0b4f4708-9783-4c80-82ce-0ae1cb2cf334"
      },
      "source": [
        "print(a)"
      ],
      "execution_count": 3,
      "outputs": [
        {
          "output_type": "stream",
          "text": [
            "[1, 2, 3]\n"
          ],
          "name": "stdout"
        }
      ]
    },
    {
      "cell_type": "markdown",
      "metadata": {
        "id": "TOB98eXEOww-"
      },
      "source": [
        "Numpy 사용한 배열"
      ]
    },
    {
      "cell_type": "code",
      "metadata": {
        "id": "Rq22oTIoOtUq"
      },
      "source": [
        "a = np.array([1, 2, 3])"
      ],
      "execution_count": 4,
      "outputs": []
    },
    {
      "cell_type": "code",
      "metadata": {
        "colab": {
          "base_uri": "https://localhost:8080/",
          "height": 0
        },
        "id": "W6LODfHwOusr",
        "outputId": "243fcb93-3509-4b13-bbb8-4c0ab8e5871f"
      },
      "source": [
        "print(a)"
      ],
      "execution_count": 5,
      "outputs": [
        {
          "output_type": "stream",
          "text": [
            "[1 2 3]\n"
          ],
          "name": "stdout"
        }
      ]
    },
    {
      "cell_type": "code",
      "metadata": {
        "colab": {
          "base_uri": "https://localhost:8080/",
          "height": 0
        },
        "id": "CBvW0GdEOzHS",
        "outputId": "f9f3e8cf-64a6-4c40-aa96-1c53b12ea4b3"
      },
      "source": [
        "a.shape"
      ],
      "execution_count": 6,
      "outputs": [
        {
          "output_type": "execute_result",
          "data": {
            "text/plain": [
              "(3,)"
            ]
          },
          "metadata": {
            "tags": []
          },
          "execution_count": 6
        }
      ]
    },
    {
      "cell_type": "code",
      "metadata": {
        "colab": {
          "base_uri": "https://localhost:8080/",
          "height": 0
        },
        "id": "SCCZ_BiGO0R3",
        "outputId": "907159f2-5895-474a-ed89-e9e4bcd2f8ae"
      },
      "source": [
        "Z = np.arange(9)\n",
        "print(Z)"
      ],
      "execution_count": 7,
      "outputs": [
        {
          "output_type": "stream",
          "text": [
            "[0 1 2 3 4 5 6 7 8]\n"
          ],
          "name": "stdout"
        }
      ]
    },
    {
      "cell_type": "code",
      "metadata": {
        "colab": {
          "base_uri": "https://localhost:8080/",
          "height": 0
        },
        "id": "wXDzFlQ6O4nm",
        "outputId": "43f0ee30-c24f-40d0-cf6d-58bf9a344bc9"
      },
      "source": [
        "Z = np.arange(10,20)\n",
        "print(Z)"
      ],
      "execution_count": 8,
      "outputs": [
        {
          "output_type": "stream",
          "text": [
            "[10 11 12 13 14 15 16 17 18 19]\n"
          ],
          "name": "stdout"
        }
      ]
    },
    {
      "cell_type": "code",
      "metadata": {
        "colab": {
          "base_uri": "https://localhost:8080/",
          "height": 0
        },
        "id": "UjfWuUeIO6Zz",
        "outputId": "d47b178b-bd64-4eae-eb72-300dd93bf201"
      },
      "source": [
        "b = np.array([[1,2,3],[4,5,6]])\n",
        "print(b.shape)\n",
        "print(b[0, 0], b[0, 1], b[1, 0])"
      ],
      "execution_count": 9,
      "outputs": [
        {
          "output_type": "stream",
          "text": [
            "(2, 3)\n",
            "1 2 4\n"
          ],
          "name": "stdout"
        }
      ]
    },
    {
      "cell_type": "code",
      "metadata": {
        "colab": {
          "base_uri": "https://localhost:8080/",
          "height": 0
        },
        "id": "SVz5zML4O81U",
        "outputId": "1e42c777-2c6d-4d5c-de26-515d82ab179b"
      },
      "source": [
        "Z = np.arange(10)\n",
        "print(Z)"
      ],
      "execution_count": 10,
      "outputs": [
        {
          "output_type": "stream",
          "text": [
            "[0 1 2 3 4 5 6 7 8 9]\n"
          ],
          "name": "stdout"
        }
      ]
    },
    {
      "cell_type": "code",
      "metadata": {
        "colab": {
          "base_uri": "https://localhost:8080/",
          "height": 0
        },
        "id": "L0gFHezIO97p",
        "outputId": "4e97a010-229e-41e6-8179-be0ad6ed0602"
      },
      "source": [
        "Z = Z[::-1]\n",
        "print(Z)"
      ],
      "execution_count": 11,
      "outputs": [
        {
          "output_type": "stream",
          "text": [
            "[9 8 7 6 5 4 3 2 1 0]\n"
          ],
          "name": "stdout"
        }
      ]
    },
    {
      "cell_type": "markdown",
      "metadata": {
        "id": "4l7LXtukPABC"
      },
      "source": [
        "**Axis / axes**\n"
      ]
    },
    {
      "cell_type": "code",
      "metadata": {
        "colab": {
          "base_uri": "https://localhost:8080/",
          "height": 0
        },
        "id": "eihvYUlOPBFz",
        "outputId": "e8f9aa57-0d65-4dad-ab00-5bc572bdb06a"
      },
      "source": [
        "a = np.array([[1, 2], [3, 4]])\n",
        "print(a)"
      ],
      "execution_count": 13,
      "outputs": [
        {
          "output_type": "stream",
          "text": [
            "[[1 2]\n",
            " [3 4]]\n"
          ],
          "name": "stdout"
        }
      ]
    },
    {
      "cell_type": "code",
      "metadata": {
        "colab": {
          "base_uri": "https://localhost:8080/",
          "height": 0
        },
        "id": "sNshvo6RPEx1",
        "outputId": "66eb2e0a-8bf3-4504-e6f4-ffdaec8db633"
      },
      "source": [
        "np.mean(a)"
      ],
      "execution_count": 15,
      "outputs": [
        {
          "output_type": "execute_result",
          "data": {
            "text/plain": [
              "2.5"
            ]
          },
          "metadata": {
            "tags": []
          },
          "execution_count": 15
        }
      ]
    },
    {
      "cell_type": "markdown",
      "metadata": {
        "id": "hA4vE8yRPHO9"
      },
      "source": [
        "Axis 0 방향↓"
      ]
    },
    {
      "cell_type": "code",
      "metadata": {
        "colab": {
          "base_uri": "https://localhost:8080/",
          "height": 0
        },
        "id": "rl00wLLKPGoQ",
        "outputId": "6874faa8-07ae-4915-b230-b9bd68cf5247"
      },
      "source": [
        "np.mean(a, axis=0)"
      ],
      "execution_count": 16,
      "outputs": [
        {
          "output_type": "execute_result",
          "data": {
            "text/plain": [
              "array([2., 3.])"
            ]
          },
          "metadata": {
            "tags": []
          },
          "execution_count": 16
        }
      ]
    },
    {
      "cell_type": "code",
      "metadata": {
        "colab": {
          "base_uri": "https://localhost:8080/",
          "height": 0
        },
        "id": "Ps0maMYTPLj1",
        "outputId": "245eeacf-ce12-4aa8-f699-79d9a062ca5f"
      },
      "source": [
        "np.sum(a, axis=0)"
      ],
      "execution_count": 17,
      "outputs": [
        {
          "output_type": "execute_result",
          "data": {
            "text/plain": [
              "array([4, 6])"
            ]
          },
          "metadata": {
            "tags": []
          },
          "execution_count": 17
        }
      ]
    },
    {
      "cell_type": "markdown",
      "metadata": {
        "id": "0HFYiwyPPMct"
      },
      "source": [
        "Axis 1 방향 →\n"
      ]
    },
    {
      "cell_type": "code",
      "metadata": {
        "colab": {
          "base_uri": "https://localhost:8080/",
          "height": 0
        },
        "id": "03ienRifPOCg",
        "outputId": "7c87d6b1-2e20-48bf-a024-500f029d8373"
      },
      "source": [
        "np.mean(a, axis=1)"
      ],
      "execution_count": 18,
      "outputs": [
        {
          "output_type": "execute_result",
          "data": {
            "text/plain": [
              "array([1.5, 3.5])"
            ]
          },
          "metadata": {
            "tags": []
          },
          "execution_count": 18
        }
      ]
    },
    {
      "cell_type": "code",
      "metadata": {
        "colab": {
          "base_uri": "https://localhost:8080/",
          "height": 0
        },
        "id": "aiVhwPl_PPQF",
        "outputId": "97152810-1244-42c4-8338-3442939fc0f0"
      },
      "source": [
        "np.sum(a, axis=1)"
      ],
      "execution_count": 19,
      "outputs": [
        {
          "output_type": "execute_result",
          "data": {
            "text/plain": [
              "array([3, 7])"
            ]
          },
          "metadata": {
            "tags": []
          },
          "execution_count": 19
        }
      ]
    },
    {
      "cell_type": "markdown",
      "metadata": {
        "id": "6QbP5XLVPQj6"
      },
      "source": [
        "**Slicing and dicing**"
      ]
    },
    {
      "cell_type": "code",
      "metadata": {
        "colab": {
          "base_uri": "https://localhost:8080/",
          "height": 0
        },
        "id": "65dxUsJ8PSDY",
        "outputId": "e9d4faaf-649b-4831-d11f-6bf93ac4a2c3"
      },
      "source": [
        "a = np.arange(10)\n",
        "print(a)"
      ],
      "execution_count": 21,
      "outputs": [
        {
          "output_type": "stream",
          "text": [
            "[0 1 2 3 4 5 6 7 8 9]\n"
          ],
          "name": "stdout"
        }
      ]
    },
    {
      "cell_type": "code",
      "metadata": {
        "colab": {
          "base_uri": "https://localhost:8080/",
          "height": 0
        },
        "id": "YWT60fckPTiJ",
        "outputId": "5a362889-1cde-4349-ae9d-29a5a417649d"
      },
      "source": [
        "a[2:7:2]"
      ],
      "execution_count": 22,
      "outputs": [
        {
          "output_type": "execute_result",
          "data": {
            "text/plain": [
              "array([2, 4, 6])"
            ]
          },
          "metadata": {
            "tags": []
          },
          "execution_count": 22
        }
      ]
    },
    {
      "cell_type": "code",
      "metadata": {
        "colab": {
          "base_uri": "https://localhost:8080/",
          "height": 0
        },
        "id": "54lOsr0hPUcS",
        "outputId": "461ebc75-fd5c-440b-b53e-3a05a067b11e"
      },
      "source": [
        "a[4:]"
      ],
      "execution_count": 23,
      "outputs": [
        {
          "output_type": "execute_result",
          "data": {
            "text/plain": [
              "array([4, 5, 6, 7, 8, 9])"
            ]
          },
          "metadata": {
            "tags": []
          },
          "execution_count": 23
        }
      ]
    },
    {
      "cell_type": "code",
      "metadata": {
        "colab": {
          "base_uri": "https://localhost:8080/",
          "height": 0
        },
        "id": "talp77c8PWA1",
        "outputId": "ce69e349-edde-4c8b-e7f2-c2b132f0659d"
      },
      "source": [
        "a[:4]"
      ],
      "execution_count": 25,
      "outputs": [
        {
          "output_type": "execute_result",
          "data": {
            "text/plain": [
              "array([0, 1, 2, 3])"
            ]
          },
          "metadata": {
            "tags": []
          },
          "execution_count": 25
        }
      ]
    },
    {
      "cell_type": "code",
      "metadata": {
        "colab": {
          "base_uri": "https://localhost:8080/",
          "height": 0
        },
        "id": "_mqoas4ZPZlc",
        "outputId": "4fb51768-2d6a-49b9-e9e9-35e3bc485e9d"
      },
      "source": [
        "a = np.array([[1,2,3],[3,4,5],[4,5,6]]) \n",
        "print(a)"
      ],
      "execution_count": 26,
      "outputs": [
        {
          "output_type": "stream",
          "text": [
            "[[1 2 3]\n",
            " [3 4 5]\n",
            " [4 5 6]]\n"
          ],
          "name": "stdout"
        }
      ]
    },
    {
      "cell_type": "code",
      "metadata": {
        "colab": {
          "base_uri": "https://localhost:8080/",
          "height": 0
        },
        "id": "eQNyLwXkPakH",
        "outputId": "061625c5-99b0-4ab7-823e-2f074d0a6b91"
      },
      "source": [
        "a.shape"
      ],
      "execution_count": 27,
      "outputs": [
        {
          "output_type": "execute_result",
          "data": {
            "text/plain": [
              "(3, 3)"
            ]
          },
          "metadata": {
            "tags": []
          },
          "execution_count": 27
        }
      ]
    },
    {
      "cell_type": "code",
      "metadata": {
        "colab": {
          "base_uri": "https://localhost:8080/",
          "height": 0
        },
        "id": "Dd6sGM88PbZy",
        "outputId": "70906569-2a6f-4b77-a9bf-2f6f64104f4d"
      },
      "source": [
        "a[...,1]"
      ],
      "execution_count": 28,
      "outputs": [
        {
          "output_type": "execute_result",
          "data": {
            "text/plain": [
              "array([2, 4, 5])"
            ]
          },
          "metadata": {
            "tags": []
          },
          "execution_count": 28
        }
      ]
    },
    {
      "cell_type": "code",
      "metadata": {
        "colab": {
          "base_uri": "https://localhost:8080/",
          "height": 0
        },
        "id": "OIihYEHBPckN",
        "outputId": "9c83bdcc-1f66-432b-8300-a3a851858b8c"
      },
      "source": [
        "a[1,...]"
      ],
      "execution_count": 29,
      "outputs": [
        {
          "output_type": "execute_result",
          "data": {
            "text/plain": [
              "array([3, 4, 5])"
            ]
          },
          "metadata": {
            "tags": []
          },
          "execution_count": 29
        }
      ]
    },
    {
      "cell_type": "code",
      "metadata": {
        "colab": {
          "base_uri": "https://localhost:8080/",
          "height": 0
        },
        "id": "v7PF9dSaPdqQ",
        "outputId": "2d266e16-17a9-4f3e-bddc-8ca8681c7ee8"
      },
      "source": [
        "a[...,1:]"
      ],
      "execution_count": 30,
      "outputs": [
        {
          "output_type": "execute_result",
          "data": {
            "text/plain": [
              "array([[2, 3],\n",
              "       [4, 5],\n",
              "       [5, 6]])"
            ]
          },
          "metadata": {
            "tags": []
          },
          "execution_count": 30
        }
      ]
    },
    {
      "cell_type": "code",
      "metadata": {
        "colab": {
          "base_uri": "https://localhost:8080/",
          "height": 0
        },
        "id": "-FIL-Co4Peft",
        "outputId": "e227e76e-09e9-4418-e486-bae55b61c840"
      },
      "source": [
        "a[1:3,...]"
      ],
      "execution_count": 31,
      "outputs": [
        {
          "output_type": "execute_result",
          "data": {
            "text/plain": [
              "array([[3, 4, 5],\n",
              "       [4, 5, 6]])"
            ]
          },
          "metadata": {
            "tags": []
          },
          "execution_count": 31
        }
      ]
    },
    {
      "cell_type": "code",
      "metadata": {
        "colab": {
          "base_uri": "https://localhost:8080/",
          "height": 0
        },
        "id": "KUnUsiYXPgBb",
        "outputId": "221c4ad7-9e2c-40e7-ee0b-a58cf8f7cc5f"
      },
      "source": [
        "a[1:3,[0,2]]"
      ],
      "execution_count": 32,
      "outputs": [
        {
          "output_type": "execute_result",
          "data": {
            "text/plain": [
              "array([[3, 5],\n",
              "       [4, 6]])"
            ]
          },
          "metadata": {
            "tags": []
          },
          "execution_count": 32
        }
      ]
    },
    {
      "cell_type": "code",
      "metadata": {
        "colab": {
          "base_uri": "https://localhost:8080/",
          "height": 0
        },
        "id": "g465nvUKPg9Y",
        "outputId": "f0dfe94c-80ec-4cfa-fdd4-df762e82b8c4"
      },
      "source": [
        "a"
      ],
      "execution_count": 33,
      "outputs": [
        {
          "output_type": "execute_result",
          "data": {
            "text/plain": [
              "array([[1, 2, 3],\n",
              "       [3, 4, 5],\n",
              "       [4, 5, 6]])"
            ]
          },
          "metadata": {
            "tags": []
          },
          "execution_count": 33
        }
      ]
    },
    {
      "cell_type": "markdown",
      "metadata": {
        "id": "F7EF-yN7PiGx"
      },
      "source": [
        "**Broadcast**\n",
        "\n",
        "Numpy에서 형상이 다른 배열을 계산하기 위해서 지원하는 기"
      ]
    },
    {
      "cell_type": "code",
      "metadata": {
        "colab": {
          "base_uri": "https://localhost:8080/",
          "height": 0
        },
        "id": "0EVjGO4hPmWB",
        "outputId": "5394af5c-7cbc-40cb-98d7-d154bec0e18b"
      },
      "source": [
        "A = np.array([[56.0, 0.0, 4.0, 68.0], \n",
        "              [1.2, 104.0, 52.0, 8.0], \n",
        "              [1.8, 135.0, 99.0, 0.9]])\n",
        "print(A)"
      ],
      "execution_count": 34,
      "outputs": [
        {
          "output_type": "stream",
          "text": [
            "[[ 56.    0.    4.   68. ]\n",
            " [  1.2 104.   52.    8. ]\n",
            " [  1.8 135.   99.    0.9]]\n"
          ],
          "name": "stdout"
        }
      ]
    },
    {
      "cell_type": "code",
      "metadata": {
        "colab": {
          "base_uri": "https://localhost:8080/",
          "height": 0
        },
        "id": "blMu2eM3Podg",
        "outputId": "a98d9910-3148-4519-a4f0-ef964ee6cc4e"
      },
      "source": [
        "cal = A.sum(axis=0)\n",
        "print(cal)"
      ],
      "execution_count": 35,
      "outputs": [
        {
          "output_type": "stream",
          "text": [
            "[ 59.  239.  155.   76.9]\n"
          ],
          "name": "stdout"
        }
      ]
    },
    {
      "cell_type": "code",
      "metadata": {
        "colab": {
          "base_uri": "https://localhost:8080/",
          "height": 0
        },
        "id": "b9xSzLRIPpOM",
        "outputId": "c85a83a7-ee4f-4622-8d77-b48b52bea26c"
      },
      "source": [
        "percentage = 100* A / cal #.reshape(1,4)\n",
        "print(percentage)"
      ],
      "execution_count": 36,
      "outputs": [
        {
          "output_type": "stream",
          "text": [
            "[[94.91525424  0.          2.58064516 88.42652796]\n",
            " [ 2.03389831 43.51464435 33.5483871  10.40312094]\n",
            " [ 3.05084746 56.48535565 63.87096774  1.17035111]]\n"
          ],
          "name": "stdout"
        }
      ]
    },
    {
      "cell_type": "markdown",
      "metadata": {
        "id": "Y-4F3hGFPrwI"
      },
      "source": [
        "**Stack**"
      ]
    },
    {
      "cell_type": "code",
      "metadata": {
        "id": "SZYbjOKJPtcp"
      },
      "source": [
        "a = np.array([1,2,3,4])\n",
        "b = np.array([5,6,7,8])"
      ],
      "execution_count": 37,
      "outputs": []
    },
    {
      "cell_type": "code",
      "metadata": {
        "colab": {
          "base_uri": "https://localhost:8080/",
          "height": 0
        },
        "id": "TnD6GO3pPwKG",
        "outputId": "4f1e151b-83d6-4434-da5b-13f813beb413"
      },
      "source": [
        "c = np.vstack((a,b))\n",
        "print(c)\n",
        "print(c.shape)"
      ],
      "execution_count": 38,
      "outputs": [
        {
          "output_type": "stream",
          "text": [
            "[[1 2 3 4]\n",
            " [5 6 7 8]]\n",
            "(2, 4)\n"
          ],
          "name": "stdout"
        }
      ]
    },
    {
      "cell_type": "code",
      "metadata": {
        "colab": {
          "base_uri": "https://localhost:8080/",
          "height": 0
        },
        "id": "h6RERHv4Pymo",
        "outputId": "ddfd960e-d71f-4d9c-9567-6cc18c59805f"
      },
      "source": [
        "d = np.hstack((a,b))\n",
        "print(d)"
      ],
      "execution_count": 39,
      "outputs": [
        {
          "output_type": "stream",
          "text": [
            "[1 2 3 4 5 6 7 8]\n"
          ],
          "name": "stdout"
        }
      ]
    },
    {
      "cell_type": "markdown",
      "metadata": {
        "id": "DvbeQuriP0ST"
      },
      "source": [
        "형변환"
      ]
    },
    {
      "cell_type": "code",
      "metadata": {
        "colab": {
          "base_uri": "https://localhost:8080/",
          "height": 0
        },
        "id": "AiMOJWDUP1HT",
        "outputId": "871e156e-571c-4139-e1a8-05c1700126b6"
      },
      "source": [
        "x = np.array([-2.0, 1.2, 3.7])\n",
        "y = x > 0\n",
        "print(y)"
      ],
      "execution_count": 40,
      "outputs": [
        {
          "output_type": "stream",
          "text": [
            "[False  True  True]\n"
          ],
          "name": "stdout"
        }
      ]
    },
    {
      "cell_type": "code",
      "metadata": {
        "colab": {
          "base_uri": "https://localhost:8080/",
          "height": 0
        },
        "id": "CAatlYHEP2D6",
        "outputId": "be79399d-f2dc-4521-ccf4-e13f269a6d9f"
      },
      "source": [
        "y = y.astype(np.int)\n",
        "print(y)"
      ],
      "execution_count": 41,
      "outputs": [
        {
          "output_type": "stream",
          "text": [
            "[0 1 1]\n"
          ],
          "name": "stdout"
        }
      ]
    },
    {
      "cell_type": "markdown",
      "metadata": {
        "id": "iTAIFw5oP3yy"
      },
      "source": [
        "**Noise**"
      ]
    },
    {
      "cell_type": "code",
      "metadata": {
        "id": "x7MTjJezP6IO"
      },
      "source": [
        "x = np.arange(0, 6, 0.1) # 0에서 6까지 0.1 간격으로 생성\n",
        "y = np.sin(x)"
      ],
      "execution_count": 42,
      "outputs": []
    },
    {
      "cell_type": "code",
      "metadata": {
        "colab": {
          "base_uri": "https://localhost:8080/",
          "height": 0
        },
        "id": "16QBuTLZP69L",
        "outputId": "97dae68c-462d-4129-952f-88219cb082ff"
      },
      "source": [
        "y"
      ],
      "execution_count": 43,
      "outputs": [
        {
          "output_type": "execute_result",
          "data": {
            "text/plain": [
              "array([ 0.        ,  0.09983342,  0.19866933,  0.29552021,  0.38941834,\n",
              "        0.47942554,  0.56464247,  0.64421769,  0.71735609,  0.78332691,\n",
              "        0.84147098,  0.89120736,  0.93203909,  0.96355819,  0.98544973,\n",
              "        0.99749499,  0.9995736 ,  0.99166481,  0.97384763,  0.94630009,\n",
              "        0.90929743,  0.86320937,  0.8084964 ,  0.74570521,  0.67546318,\n",
              "        0.59847214,  0.51550137,  0.42737988,  0.33498815,  0.23924933,\n",
              "        0.14112001,  0.04158066, -0.05837414, -0.15774569, -0.2555411 ,\n",
              "       -0.35078323, -0.44252044, -0.52983614, -0.61185789, -0.68776616,\n",
              "       -0.7568025 , -0.81827711, -0.87157577, -0.91616594, -0.95160207,\n",
              "       -0.97753012, -0.993691  , -0.99992326, -0.99616461, -0.98245261,\n",
              "       -0.95892427, -0.92581468, -0.88345466, -0.83226744, -0.77276449,\n",
              "       -0.70554033, -0.63126664, -0.55068554, -0.46460218, -0.37387666])"
            ]
          },
          "metadata": {
            "tags": []
          },
          "execution_count": 43
        }
      ]
    },
    {
      "cell_type": "code",
      "metadata": {
        "colab": {
          "base_uri": "https://localhost:8080/",
          "height": 0
        },
        "id": "NFCNuiM_P71h",
        "outputId": "6de9029d-a6d4-4511-d153-4e6528f67d4a"
      },
      "source": [
        "signal_length = y.shape[0]\n",
        "print(signal_length)"
      ],
      "execution_count": 44,
      "outputs": [
        {
          "output_type": "stream",
          "text": [
            "60\n"
          ],
          "name": "stdout"
        }
      ]
    },
    {
      "cell_type": "code",
      "metadata": {
        "id": "iDR0R9JTP92c"
      },
      "source": [
        "noise = np.random.normal(0, 1, signal_length)\n",
        "y2 = y + 0.2* noise"
      ],
      "execution_count": 45,
      "outputs": []
    },
    {
      "cell_type": "code",
      "metadata": {
        "colab": {
          "base_uri": "https://localhost:8080/",
          "height": 282
        },
        "id": "mWkI0BT4P_Bz",
        "outputId": "ef383499-7fbb-4560-96cc-cb283b3e73c8"
      },
      "source": [
        "plt.plot(x, y)\n",
        "plt.plot(x, y2)"
      ],
      "execution_count": 46,
      "outputs": [
        {
          "output_type": "execute_result",
          "data": {
            "text/plain": [
              "[<matplotlib.lines.Line2D at 0x7f0a6cddd908>]"
            ]
          },
          "metadata": {
            "tags": []
          },
          "execution_count": 46
        },
        {
          "output_type": "display_data",
          "data": {
            "image/png": "[encoded data removed]",
            "text/plain": [
              "<Figure size 432x288 with 1 Axes>"
            ]
          },
          "metadata": {
            "tags": [],
            "needs_background": "light"
          }
        }
      ]
    },
    {
      "cell_type": "markdown",
      "metadata": {
        "id": "K7NGsuY9P_r3"
      },
      "source": [
        "**배열 형태 변환**"
      ]
    },
    {
      "cell_type": "code",
      "metadata": {
        "colab": {
          "base_uri": "https://localhost:8080/",
          "height": 0
        },
        "id": "qqWfyGcqQBzS",
        "outputId": "894aa655-529e-4ef0-9202-51e6c44a76c9"
      },
      "source": [
        "Z = np.arange(9).reshape(3,3)\n",
        "print(Z)"
      ],
      "execution_count": 47,
      "outputs": [
        {
          "output_type": "stream",
          "text": [
            "[[0 1 2]\n",
            " [3 4 5]\n",
            " [6 7 8]]\n"
          ],
          "name": "stdout"
        }
      ]
    },
    {
      "cell_type": "code",
      "metadata": {
        "colab": {
          "base_uri": "https://localhost:8080/",
          "height": 0
        },
        "id": "JxLby-jLQD0k",
        "outputId": "e4a4f980-517c-4966-feb0-5f1c2acfcf14"
      },
      "source": [
        "A = np.random.rand(4, 3, 2)\n",
        "print(A)"
      ],
      "execution_count": 48,
      "outputs": [
        {
          "output_type": "stream",
          "text": [
            "[[[0.65940461 0.78808258]\n",
            "  [0.05842165 0.32300208]\n",
            "  [0.93584338 0.38789138]]\n",
            "\n",
            " [[0.95577521 0.6571312 ]\n",
            "  [0.01883335 0.28142255]\n",
            "  [0.23006766 0.15270402]]\n",
            "\n",
            " [[0.85541215 0.07148507]\n",
            "  [0.18773414 0.20980005]\n",
            "  [0.94483064 0.03460131]]\n",
            "\n",
            " [[0.79434601 0.25020024]\n",
            "  [0.70255709 0.29922982]\n",
            "  [0.28989415 0.75578082]]]\n"
          ],
          "name": "stdout"
        }
      ]
    },
    {
      "cell_type": "code",
      "metadata": {
        "colab": {
          "base_uri": "https://localhost:8080/",
          "height": 0
        },
        "id": "h7NHl9_vQE95",
        "outputId": "534f8335-8e85-4a2f-d967-b1e7df2f2f3c"
      },
      "source": [
        "A = A.reshape(12, 2)\n",
        "print(A)"
      ],
      "execution_count": 49,
      "outputs": [
        {
          "output_type": "stream",
          "text": [
            "[[0.65940461 0.78808258]\n",
            " [0.05842165 0.32300208]\n",
            " [0.93584338 0.38789138]\n",
            " [0.95577521 0.6571312 ]\n",
            " [0.01883335 0.28142255]\n",
            " [0.23006766 0.15270402]\n",
            " [0.85541215 0.07148507]\n",
            " [0.18773414 0.20980005]\n",
            " [0.94483064 0.03460131]\n",
            " [0.79434601 0.25020024]\n",
            " [0.70255709 0.29922982]\n",
            " [0.28989415 0.75578082]]\n"
          ],
          "name": "stdout"
        }
      ]
    },
    {
      "cell_type": "markdown",
      "metadata": {
        "id": "KHzvdOIgQGl2"
      },
      "source": [
        "**1차원 변환 ravel() vs. reshape() vs. flatten()**"
      ]
    },
    {
      "cell_type": "code",
      "metadata": {
        "colab": {
          "base_uri": "https://localhost:8080/",
          "height": 0
        },
        "id": "J1Mfwx40QH_S",
        "outputId": "041ea5c4-410a-4bab-8111-f3b1e78335e6"
      },
      "source": [
        "B = A.ravel()\n",
        "print(B.shape)"
      ],
      "execution_count": 50,
      "outputs": [
        {
          "output_type": "stream",
          "text": [
            "(24,)\n"
          ],
          "name": "stdout"
        }
      ]
    },
    {
      "cell_type": "code",
      "metadata": {
        "colab": {
          "base_uri": "https://localhost:8080/",
          "height": 0
        },
        "id": "5HMbXwMJQJNj",
        "outputId": "cc921576-31af-4046-bcd8-03ed3ccb4629"
      },
      "source": [
        "C = A.flatten()\n",
        "print(C.shape)"
      ],
      "execution_count": 51,
      "outputs": [
        {
          "output_type": "stream",
          "text": [
            "(24,)\n"
          ],
          "name": "stdout"
        }
      ]
    },
    {
      "cell_type": "markdown",
      "metadata": {
        "id": "tmWSklTwQMof"
      },
      "source": [
        "**랜덤**"
      ]
    },
    {
      "cell_type": "code",
      "metadata": {
        "id": "l6JnvLmvQOQH"
      },
      "source": [
        "np.random.seed(0)\n",
        "p = np.array([0.1, 0.0, 0.7, 0.2])"
      ],
      "execution_count": 52,
      "outputs": []
    },
    {
      "cell_type": "code",
      "metadata": {
        "colab": {
          "base_uri": "https://localhost:8080/",
          "height": 0
        },
        "id": "PNsk-8a2QPsi",
        "outputId": "076090f9-7b54-40a1-c1cb-bcbc52e7847f"
      },
      "source": [
        "for i in range(10):\n",
        "    index = np.random.choice([0, 1, 2, 3], p = p.ravel())\n",
        "    print(i, index)"
      ],
      "execution_count": 53,
      "outputs": [
        {
          "output_type": "stream",
          "text": [
            "0 2\n",
            "1 2\n",
            "2 2\n",
            "3 2\n",
            "4 2\n",
            "5 2\n",
            "6 2\n",
            "7 3\n",
            "8 3\n",
            "9 2\n"
          ],
          "name": "stdout"
        }
      ]
    },
    {
      "cell_type": "code",
      "metadata": {
        "id": "kQn5I9d0QR6w"
      },
      "source": [
        "v =[0,0,0,0]\n",
        "ntest = 1000\n",
        "for i in range(ntest):\n",
        "    idx = np.random.choice([0, 1, 2, 3], p = p.ravel())\n",
        "    v[idx] += 1"
      ],
      "execution_count": 54,
      "outputs": []
    },
    {
      "cell_type": "markdown",
      "metadata": {
        "id": "ilckl3zyQUMi"
      },
      "source": [
        "**np.random.permutation**"
      ]
    },
    {
      "cell_type": "code",
      "metadata": {
        "colab": {
          "base_uri": "https://localhost:8080/",
          "height": 0
        },
        "id": "Ab1R2aXbQV2e",
        "outputId": "9c37ab39-158a-4237-80df-aabac33cae55"
      },
      "source": [
        "m1 = np.random.permutation(5)\n",
        "print(m1)"
      ],
      "execution_count": 55,
      "outputs": [
        {
          "output_type": "stream",
          "text": [
            "[2 1 4 0 3]\n"
          ],
          "name": "stdout"
        }
      ]
    },
    {
      "cell_type": "markdown",
      "metadata": {
        "id": "Xha-kOBoQYCa"
      },
      "source": [
        "array shuffle하기 (1차원)"
      ]
    },
    {
      "cell_type": "code",
      "metadata": {
        "id": "HTWJMD5hQYs0"
      },
      "source": [
        "X = np.array([10,20,30,40,50])\n",
        "shuffled_X = X[m1]"
      ],
      "execution_count": 56,
      "outputs": []
    },
    {
      "cell_type": "code",
      "metadata": {
        "colab": {
          "base_uri": "https://localhost:8080/",
          "height": 0
        },
        "id": "A7QyBBqvQaAD",
        "outputId": "ed2f084d-58a5-45ac-ec8c-06d15401d869"
      },
      "source": [
        "\n",
        "print(X)\n",
        "print(shuffled_X)"
      ],
      "execution_count": 57,
      "outputs": [
        {
          "output_type": "stream",
          "text": [
            "[10 20 30 40 50]\n",
            "[30 20 50 10 40]\n"
          ],
          "name": "stdout"
        }
      ]
    },
    {
      "cell_type": "markdown",
      "metadata": {
        "id": "OiDNPs1LQbLe"
      },
      "source": [
        "array shuffle하기 (2차원)"
      ]
    },
    {
      "cell_type": "code",
      "metadata": {
        "id": "p9u9mhPnQbqz"
      },
      "source": [
        "x1 = [2, 4, 8, 10, 20]\n",
        "x2 = [0.2,  0.4, -0.8, 1.0, -2.0]\n",
        "X = np.transpose(np.vstack((x1, x2)))"
      ],
      "execution_count": 58,
      "outputs": []
    },
    {
      "cell_type": "code",
      "metadata": {
        "colab": {
          "base_uri": "https://localhost:8080/",
          "height": 0
        },
        "id": "jAi6pzXPQd__",
        "outputId": "1b91c342-fc13-4a71-bb55-b661f6f11340"
      },
      "source": [
        "print(X)\n",
        "print(X.shape)"
      ],
      "execution_count": 59,
      "outputs": [
        {
          "output_type": "stream",
          "text": [
            "[[ 2.   0.2]\n",
            " [ 4.   0.4]\n",
            " [ 8.  -0.8]\n",
            " [10.   1. ]\n",
            " [20.  -2. ]]\n",
            "(5, 2)\n"
          ],
          "name": "stdout"
        }
      ]
    },
    {
      "cell_type": "code",
      "metadata": {
        "id": "2ybmill7QfD7"
      },
      "source": [
        "permutation = np.random.permutation(5)"
      ],
      "execution_count": 60,
      "outputs": []
    },
    {
      "cell_type": "code",
      "metadata": {
        "id": "AAqm1D_dQgI9"
      },
      "source": [
        "X_shuffle=  X[permutation]"
      ],
      "execution_count": 61,
      "outputs": []
    },
    {
      "cell_type": "code",
      "metadata": {
        "colab": {
          "base_uri": "https://localhost:8080/",
          "height": 0
        },
        "id": "6k71GGoDQhS9",
        "outputId": "898d375b-f1ab-4766-b671-4d8ad74e1103"
      },
      "source": [
        "print(X_shuffle)"
      ],
      "execution_count": 62,
      "outputs": [
        {
          "output_type": "stream",
          "text": [
            "[[ 8.  -0.8]\n",
            " [10.   1. ]\n",
            " [20.  -2. ]\n",
            " [ 4.   0.4]\n",
            " [ 2.   0.2]]\n"
          ],
          "name": "stdout"
        }
      ]
    }
  ]
}