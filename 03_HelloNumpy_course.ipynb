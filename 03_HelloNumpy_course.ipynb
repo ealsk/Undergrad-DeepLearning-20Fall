{
  "nbformat": 4,
  "nbformat_minor": 0,
  "metadata": {
    "colab": {
      "name": "03_HelloNumpy_course.ipynb",
      "provenance": [],
      "authorship_tag": "ABX9TyPqjoycSMVnU0zQiZEDu/bA",
      "include_colab_link": true
    },
    "kernelspec": {
      "name": "python3",
      "display_name": "Python 3"
    }
  },
  "cells": [
    {
      "cell_type": "markdown",
      "metadata": {
        "id": "view-in-github",
        "colab_type": "text"
      },
      "source": [
        "<a href=\"https://colab.research.google.com/github/ealsk/Undergrad-DeepLearning-20Fall/blob/master/03_HelloNumpy_course.ipynb\" target=\"_parent\"><img src=\"https://colab.research.google.com/assets/colab-badge.svg\" alt=\"Open In Colab\"/></a>"
      ]
    },
    {
      "cell_type": "code",
      "metadata": {
        "id": "ExzhPJ4K7A6D"
      },
      "source": [
        "import numpy as np"
      ],
      "execution_count": 1,
      "outputs": []
    },
    {
      "cell_type": "markdown",
      "metadata": {
        "id": "1J6bO3Jn7bwa"
      },
      "source": [
        "**Stack**"
      ]
    },
    {
      "cell_type": "code",
      "metadata": {
        "id": "i1_Op1cP7dwA"
      },
      "source": [
        "a= np.array([1,2,3,4])\n",
        "b= np.array([5,6,7,8])"
      ],
      "execution_count": 2,
      "outputs": []
    },
    {
      "cell_type": "markdown",
      "metadata": {
        "id": "z2hCjKhS7yfY"
      },
      "source": [
        "세로로 쌓기"
      ]
    },
    {
      "cell_type": "code",
      "metadata": {
        "colab": {
          "base_uri": "https://localhost:8080/"
        },
        "id": "M3q5fe5u7mUX",
        "outputId": "0a324e02-0781-4af8-88bf-303d0fa78fa2"
      },
      "source": [
        "c= np.vstack((a,b))\n",
        "print(c)"
      ],
      "execution_count": 3,
      "outputs": [
        {
          "output_type": "stream",
          "text": [
            "[[1 2 3 4]\n",
            " [5 6 7 8]]\n"
          ],
          "name": "stdout"
        }
      ]
    },
    {
      "cell_type": "code",
      "metadata": {
        "colab": {
          "base_uri": "https://localhost:8080/"
        },
        "id": "0mifFryh7qGp",
        "outputId": "4709600b-1b64-4c92-ce6a-bdb82538b5a6"
      },
      "source": [
        "print(c.shape)"
      ],
      "execution_count": 4,
      "outputs": [
        {
          "output_type": "stream",
          "text": [
            "(2, 4)\n"
          ],
          "name": "stdout"
        }
      ]
    },
    {
      "cell_type": "markdown",
      "metadata": {
        "id": "NUoO3hG770w7"
      },
      "source": [
        "가로로 쌓기"
      ]
    },
    {
      "cell_type": "code",
      "metadata": {
        "colab": {
          "base_uri": "https://localhost:8080/"
        },
        "id": "qyo4qXmL71XH",
        "outputId": "aba27997-7c0a-42e6-f4af-148e527439e4"
      },
      "source": [
        "d= np.hstack((a,b))\n",
        "print(d)"
      ],
      "execution_count": 5,
      "outputs": [
        {
          "output_type": "stream",
          "text": [
            "[1 2 3 4 5 6 7 8]\n"
          ],
          "name": "stdout"
        }
      ]
    },
    {
      "cell_type": "code",
      "metadata": {
        "colab": {
          "base_uri": "https://localhost:8080/"
        },
        "id": "72yUHiJH74k5",
        "outputId": "5b579102-818f-432b-eadd-e6cd2b958502"
      },
      "source": [
        "d.shape"
      ],
      "execution_count": 6,
      "outputs": [
        {
          "output_type": "execute_result",
          "data": {
            "text/plain": [
              "(8,)"
            ]
          },
          "metadata": {
            "tags": []
          },
          "execution_count": 6
        }
      ]
    },
    {
      "cell_type": "markdown",
      "metadata": {
        "id": "RZygq_uh77EU"
      },
      "source": [
        "###zeros_like & ones_like"
      ]
    },
    {
      "cell_type": "code",
      "metadata": {
        "colab": {
          "base_uri": "https://localhost:8080/"
        },
        "id": "gZqU9CoH78at",
        "outputId": "d5d3a64e-ace4-4ba3-b9d5-01a4f174b303"
      },
      "source": [
        "np.zeros_like(c)"
      ],
      "execution_count": 7,
      "outputs": [
        {
          "output_type": "execute_result",
          "data": {
            "text/plain": [
              "array([[0, 0, 0, 0],\n",
              "       [0, 0, 0, 0]])"
            ]
          },
          "metadata": {
            "tags": []
          },
          "execution_count": 7
        }
      ]
    },
    {
      "cell_type": "code",
      "metadata": {
        "colab": {
          "base_uri": "https://localhost:8080/"
        },
        "id": "UbJFLy-d7rtu",
        "outputId": "f9b565f6-e3a5-4fa5-b1a7-3baf4a0b6ffc"
      },
      "source": [
        "np.ones_like(c)"
      ],
      "execution_count": 8,
      "outputs": [
        {
          "output_type": "execute_result",
          "data": {
            "text/plain": [
              "array([[1, 1, 1, 1],\n",
              "       [1, 1, 1, 1]])"
            ]
          },
          "metadata": {
            "tags": []
          },
          "execution_count": 8
        }
      ]
    }
  ]
}