{
  "nbformat": 4,
  "nbformat_minor": 0,
  "metadata": {
    "colab": {
      "name": "HW1_1_20182553.ipynb",
      "provenance": [],
      "collapsed_sections": [],
      "authorship_tag": "ABX9TyP6HROY0L/80gLHkhzsT/db",
      "include_colab_link": true
    },
    "kernelspec": {
      "name": "python3",
      "display_name": "Python 3"
    }
  },
  "cells": [
    {
      "cell_type": "markdown",
      "metadata": {
        "id": "view-in-github",
        "colab_type": "text"
      },
      "source": [
        "<a href=\"https://colab.research.google.com/github/ealsk/Undergrad-DeepLearning-20Fall/blob/master/HW1_1_20182553.ipynb\" target=\"_parent\"><img src=\"https://colab.research.google.com/assets/colab-badge.svg\" alt=\"Open In Colab\"/></a>"
      ]
    },
    {
      "cell_type": "markdown",
      "metadata": {
        "id": "fMWgOfR1sNyj"
      },
      "source": [
        "## **Hello World !**"
      ]
    },
    {
      "cell_type": "code",
      "metadata": {
        "id": "9GJR8ENLpkVx",
        "outputId": "589b15e6-efe4-4545-e55e-5995da40fd4e",
        "colab": {
          "base_uri": "https://localhost:8080/",
          "height": 53
        }
      },
      "source": [
        "print('Hello World')\n",
        "print('Hello World {} + {} = {}'.format(2, 3, 2+3))"
      ],
      "execution_count": null,
      "outputs": [
        {
          "output_type": "stream",
          "text": [
            "Hello World\n",
            "Hello World 2 + 3 = 5\n"
          ],
          "name": "stdout"
        }
      ]
    },
    {
      "cell_type": "markdown",
      "metadata": {
        "id": "sWDubI-Esj1f"
      },
      "source": [
        "Basic data types"
      ]
    },
    {
      "cell_type": "code",
      "metadata": {
        "id": "UA3_9hRRsjFv",
        "outputId": "467ec724-c38f-439d-878c-e754fd4026e1",
        "colab": {
          "base_uri": "https://localhost:8080/",
          "height": 53
        }
      },
      "source": [
        "x = 3\n",
        "print(type(x))\n",
        "print(x)"
      ],
      "execution_count": null,
      "outputs": [
        {
          "output_type": "stream",
          "text": [
            "<class 'int'>\n",
            "3\n"
          ],
          "name": "stdout"
        }
      ]
    },
    {
      "cell_type": "code",
      "metadata": {
        "id": "292QAKESsp3K",
        "outputId": "6645a27a-e4ad-4421-b1b6-c7d02dc1958b",
        "colab": {
          "base_uri": "https://localhost:8080/",
          "height": 89
        }
      },
      "source": [
        "print(x+1)\n",
        "print(x-1)\n",
        "print(x*2)\n",
        "print(x**2)"
      ],
      "execution_count": null,
      "outputs": [
        {
          "output_type": "stream",
          "text": [
            "4\n",
            "2\n",
            "6\n",
            "9\n"
          ],
          "name": "stdout"
        }
      ]
    },
    {
      "cell_type": "markdown",
      "metadata": {
        "id": "KC6GrQrysu6K"
      },
      "source": [
        "For statement"
      ]
    },
    {
      "cell_type": "code",
      "metadata": {
        "id": "Eyq3AxjXsv5B",
        "outputId": "6372c059-5212-49fe-bcb2-b0a9a93bbc60",
        "colab": {
          "base_uri": "https://localhost:8080/",
          "height": 35
        }
      },
      "source": [
        "A=range(5)\n",
        "print(A)"
      ],
      "execution_count": null,
      "outputs": [
        {
          "output_type": "stream",
          "text": [
            "range(0, 5)\n"
          ],
          "name": "stdout"
        }
      ]
    },
    {
      "cell_type": "code",
      "metadata": {
        "id": "lXpx8-JxszXv",
        "outputId": "e53fc4cf-af52-4878-9fc2-ff27b3744773",
        "colab": {
          "base_uri": "https://localhost:8080/",
          "height": 35
        }
      },
      "source": [
        "print(A[2])"
      ],
      "execution_count": null,
      "outputs": [
        {
          "output_type": "stream",
          "text": [
            "2\n"
          ],
          "name": "stdout"
        }
      ]
    },
    {
      "cell_type": "code",
      "metadata": {
        "id": "AhetywrUs1A8",
        "outputId": "8c7d3309-ae2f-4afc-c0aa-f20cd6efe414",
        "colab": {
          "base_uri": "https://localhost:8080/",
          "height": 107
        }
      },
      "source": [
        "for i in range(5):\n",
        "  print(' {} ----- {}'.format(i, A[i]))"
      ],
      "execution_count": null,
      "outputs": [
        {
          "output_type": "stream",
          "text": [
            " 0 ----- 0\n",
            " 1 ----- 1\n",
            " 2 ----- 2\n",
            " 3 ----- 3\n",
            " 4 ----- 4\n"
          ],
          "name": "stdout"
        }
      ]
    },
    {
      "cell_type": "code",
      "metadata": {
        "id": "Cl7vHJBds78L",
        "outputId": "45ec7685-f4df-4b11-de5c-70d6e2b56015",
        "colab": {
          "base_uri": "https://localhost:8080/",
          "height": 179
        }
      },
      "source": [
        "for i in range(9):\n",
        "  print('{} x {} = {}'.format(2, i, 2*i))"
      ],
      "execution_count": null,
      "outputs": [
        {
          "output_type": "stream",
          "text": [
            "2 x 0 = 0\n",
            "2 x 1 = 2\n",
            "2 x 2 = 4\n",
            "2 x 3 = 6\n",
            "2 x 4 = 8\n",
            "2 x 5 = 10\n",
            "2 x 6 = 12\n",
            "2 x 7 = 14\n",
            "2 x 8 = 16\n"
          ],
          "name": "stdout"
        }
      ]
    },
    {
      "cell_type": "markdown",
      "metadata": {
        "id": "tFDPxoZGtGVt"
      },
      "source": [
        "Operators"
      ]
    },
    {
      "cell_type": "code",
      "metadata": {
        "id": "4TEc6u0ztHrd",
        "outputId": "5060d98c-c605-421c-bca7-81b623945262",
        "colab": {
          "base_uri": "https://localhost:8080/",
          "height": 71
        }
      },
      "source": [
        "print((1,2,3)*3)\n",
        "print([1,2,3]*3)\n",
        "print(\"Hello \"*3)"
      ],
      "execution_count": null,
      "outputs": [
        {
          "output_type": "stream",
          "text": [
            "(1, 2, 3, 1, 2, 3, 1, 2, 3)\n",
            "[1, 2, 3, 1, 2, 3, 1, 2, 3]\n",
            "Hello Hello Hello \n"
          ],
          "name": "stdout"
        }
      ]
    },
    {
      "cell_type": "markdown",
      "metadata": {
        "id": "KizKyQB1tOsn"
      },
      "source": [
        "##Containers\n",
        "\n",
        "Tuple"
      ]
    },
    {
      "cell_type": "code",
      "metadata": {
        "id": "TpwvFAaAtSSw",
        "outputId": "2eb993d8-2329-4571-e27c-6d5ab987d1b7",
        "colab": {
          "base_uri": "https://localhost:8080/",
          "height": 53
        }
      },
      "source": [
        "months = ('January', 'February', 'March', 'April', 'May', 'June', 'July', 'August','September','October','November','December')\n",
        "\n",
        "print(months[0])\n",
        "print(\"index of 7 ==> \", months[7])"
      ],
      "execution_count": null,
      "outputs": [
        {
          "output_type": "stream",
          "text": [
            "January\n",
            "index of 7 ==>  August\n"
          ],
          "name": "stdout"
        }
      ]
    },
    {
      "cell_type": "code",
      "metadata": {
        "id": "l0bxOOsatnam",
        "outputId": "1d43ed4e-ceac-4e53-8486-02276e4bd3f0",
        "colab": {
          "base_uri": "https://localhost:8080/",
          "height": 233
        }
      },
      "source": [
        "for item in months:\n",
        "  print(item)"
      ],
      "execution_count": null,
      "outputs": [
        {
          "output_type": "stream",
          "text": [
            "January\n",
            "February\n",
            "March\n",
            "April\n",
            "May\n",
            "June\n",
            "July\n",
            "August\n",
            "September\n",
            "October\n",
            "November\n",
            "December\n"
          ],
          "name": "stdout"
        }
      ]
    },
    {
      "cell_type": "code",
      "metadata": {
        "id": "V4gQgdbutqgj",
        "outputId": "7750a861-f354-442d-d556-7841b5ae0d91",
        "colab": {
          "base_uri": "https://localhost:8080/",
          "height": 125
        }
      },
      "source": [
        "t = ('john', 32, (2,3,4,5), 'hello')\n",
        "print(t)\n",
        "print(t[2]) \n",
        "print(t[2][1]) \n",
        "print(t[:2]) \n",
        "\n",
        "print(t[-1])\n",
        "print(t[-2])"
      ],
      "execution_count": null,
      "outputs": [
        {
          "output_type": "stream",
          "text": [
            "('john', 32, (2, 3, 4, 5), 'hello')\n",
            "(2, 3, 4, 5)\n",
            "3\n",
            "('john', 32)\n",
            "hello\n",
            "(2, 3, 4, 5)\n"
          ],
          "name": "stdout"
        }
      ]
    },
    {
      "cell_type": "code",
      "metadata": {
        "id": "OqDcPaLgtzXO",
        "outputId": "f5b1161d-4f9b-49d8-99ae-f3120a77223a",
        "colab": {
          "base_uri": "https://localhost:8080/",
          "height": 35
        }
      },
      "source": [
        "li = ['hallym', 1, 3.141572, 'hello']\n",
        "print(li)"
      ],
      "execution_count": null,
      "outputs": [
        {
          "output_type": "stream",
          "text": [
            "['hallym', 1, 3.141572, 'hello']\n"
          ],
          "name": "stdout"
        }
      ]
    },
    {
      "cell_type": "code",
      "metadata": {
        "id": "k6R-HE0xt7n6",
        "outputId": "0ba1fd6e-4c48-41c7-dd98-bb400de96f05",
        "colab": {
          "base_uri": "https://localhost:8080/",
          "height": 35
        }
      },
      "source": [
        "li[1] = 45\n",
        "print(li)"
      ],
      "execution_count": null,
      "outputs": [
        {
          "output_type": "stream",
          "text": [
            "['hallym', 45, 3.141572, 'hello']\n"
          ],
          "name": "stdout"
        }
      ]
    },
    {
      "cell_type": "code",
      "metadata": {
        "id": "LiCk4JQCt94L",
        "outputId": "d62f25b0-9d8a-4419-c9ce-73579a4af9c8",
        "colab": {
          "base_uri": "https://localhost:8080/",
          "height": 35
        }
      },
      "source": [
        "li.append('September')\n",
        "print(li)"
      ],
      "execution_count": null,
      "outputs": [
        {
          "output_type": "stream",
          "text": [
            "['hallym', 45, 3.141572, 'hello', 'September']\n"
          ],
          "name": "stdout"
        }
      ]
    },
    {
      "cell_type": "code",
      "metadata": {
        "id": "yiCuQc3KuA4U"
      },
      "source": [
        "v = []"
      ],
      "execution_count": null,
      "outputs": []
    },
    {
      "cell_type": "code",
      "metadata": {
        "id": "8FbHoy6ouGF7",
        "outputId": "4713a11f-3963-45ac-f5ae-a30876d9561e",
        "colab": {
          "base_uri": "https://localhost:8080/",
          "height": 71
        }
      },
      "source": [
        "for i in range(0,3):\n",
        "  v.append(i*5)\n",
        "  print(i, v)"
      ],
      "execution_count": null,
      "outputs": [
        {
          "output_type": "stream",
          "text": [
            "0 [0]\n",
            "1 [0, 5]\n",
            "2 [0, 5, 10]\n"
          ],
          "name": "stdout"
        }
      ]
    },
    {
      "cell_type": "markdown",
      "metadata": {
        "id": "4U0obQU6uNNc"
      },
      "source": [
        "+연산자"
      ]
    },
    {
      "cell_type": "code",
      "metadata": {
        "id": "p3nNYWn_uLeb",
        "outputId": "6debfb91-07f8-4e00-e9d4-ad8c55a28fed",
        "colab": {
          "base_uri": "https://localhost:8080/",
          "height": 71
        }
      },
      "source": [
        "print((1, 2, 3) + (4, 5, 6)) \n",
        "print([1, 2, 3] + [4, 5, 6]) \n",
        "print(\"Hello\" + \" \" + \"World\")"
      ],
      "execution_count": null,
      "outputs": [
        {
          "output_type": "stream",
          "text": [
            "(1, 2, 3, 4, 5, 6)\n",
            "[1, 2, 3, 4, 5, 6]\n",
            "Hello World\n"
          ],
          "name": "stdout"
        }
      ]
    },
    {
      "cell_type": "markdown",
      "metadata": {
        "id": "BrWRiQKJuOQo"
      },
      "source": [
        "*연산자"
      ]
    },
    {
      "cell_type": "code",
      "metadata": {
        "id": "tWzS-vjsuSCL",
        "outputId": "fc77dbde-6fb9-417f-d25f-a6f1523346cf",
        "colab": {
          "base_uri": "https://localhost:8080/",
          "height": 53
        }
      },
      "source": [
        "y=2.5\n",
        "print(type(y))\n",
        "print(y, y + 1, y * 2, y ** 2)"
      ],
      "execution_count": null,
      "outputs": [
        {
          "output_type": "stream",
          "text": [
            "<class 'float'>\n",
            "2.5 3.5 5.0 6.25\n"
          ],
          "name": "stdout"
        }
      ]
    },
    {
      "cell_type": "markdown",
      "metadata": {
        "id": "IMBpecL3uWi5"
      },
      "source": [
        "Enumeration (열거하기)"
      ]
    },
    {
      "cell_type": "code",
      "metadata": {
        "id": "LdwZ3obluYWX",
        "outputId": "9e7cee9b-afa8-45e2-9c91-4eb7adeb1209",
        "colab": {
          "base_uri": "https://localhost:8080/",
          "height": 71
        }
      },
      "source": [
        "for i, val in enumerate(v):\n",
        "  print('{} ---> {}'.format(i, val))"
      ],
      "execution_count": null,
      "outputs": [
        {
          "output_type": "stream",
          "text": [
            "0 ---> 0\n",
            "1 ---> 5\n",
            "2 ---> 10\n"
          ],
          "name": "stdout"
        }
      ]
    },
    {
      "cell_type": "code",
      "metadata": {
        "id": "9eI1Q3pyuedg",
        "outputId": "4475c3cf-a0c3-4ec7-ae41-8f1629417e40",
        "colab": {
          "base_uri": "https://localhost:8080/",
          "height": 35
        }
      },
      "source": [
        "v2= [ 'A', 'B', 'C', '0', '1,', '2', '3']\n",
        "print(v2)"
      ],
      "execution_count": null,
      "outputs": [
        {
          "output_type": "stream",
          "text": [
            "['A', 'B', 'C', '0', '1,', '2', '3']\n"
          ],
          "name": "stdout"
        }
      ]
    },
    {
      "cell_type": "code",
      "metadata": {
        "id": "giWkqpARunx3",
        "outputId": "9650b9cd-1686-44df-aab2-49be1b1caacf",
        "colab": {
          "base_uri": "https://localhost:8080/",
          "height": 143
        }
      },
      "source": [
        "for i,val in enumerate(v2):\n",
        "  print('{} ---> {}'.format(i, val))"
      ],
      "execution_count": null,
      "outputs": [
        {
          "output_type": "stream",
          "text": [
            "0 ---> A\n",
            "1 ---> B\n",
            "2 ---> C\n",
            "3 ---> 0\n",
            "4 ---> 1,\n",
            "5 ---> 2\n",
            "6 ---> 3\n"
          ],
          "name": "stdout"
        }
      ]
    }
  ]
}